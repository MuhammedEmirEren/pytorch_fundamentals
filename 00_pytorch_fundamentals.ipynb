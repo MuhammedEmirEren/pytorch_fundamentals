{
  "nbformat": 4,
  "nbformat_minor": 0,
  "metadata": {
    "colab": {
      "provenance": [],
      "authorship_tag": "ABX9TyM1q1+O6lGL4OVsVe3Xl7Qa",
      "include_colab_link": true
    },
    "kernelspec": {
      "name": "python3",
      "display_name": "Python 3"
    },
    "language_info": {
      "name": "python"
    }
  },
  "cells": [
    {
      "cell_type": "markdown",
      "metadata": {
        "id": "view-in-github",
        "colab_type": "text"
      },
      "source": [
        "<a href=\"https://colab.research.google.com/github/MuhammedEmirEren/pytorch_fundamentals/blob/main/00_pytorch_fundamentals.ipynb\" target=\"_parent\"><img src=\"https://colab.research.google.com/assets/colab-badge.svg\" alt=\"Open In Colab\"/></a>"
      ]
    },
    {
      "cell_type": "markdown",
      "source": [
        "## 00. Pytorch Fundamentals"
      ],
      "metadata": {
        "id": "titmf4WjCNhn"
      }
    },
    {
      "cell_type": "code",
      "source": [
        "import torch\n",
        "import pandas as pd\n",
        "import matplotlib.pyplot as plt\n",
        "import numpy as np\n",
        "print(torch.__version__)"
      ],
      "metadata": {
        "colab": {
          "base_uri": "https://localhost:8080/"
        },
        "id": "hYY-BHiDDWqf",
        "outputId": "b9f277f1-7053-418a-e8d7-100891cb5611"
      },
      "execution_count": 1,
      "outputs": [
        {
          "output_type": "stream",
          "name": "stdout",
          "text": [
            "2.3.0+cu121\n"
          ]
        }
      ]
    },
    {
      "cell_type": "markdown",
      "source": [
        "# Tensors\n",
        "Creating Tensors\n",
        "\n",
        "pytorch tensors are created using torcch.tensor()\n",
        "-->>> https://pytorch.org/docs/stable/tensors.html#initializing-and-basic-operations\n",
        "\n",
        ".ndim is to get number of dimensions of tensor"
      ],
      "metadata": {
        "id": "XiilpnvpHO6c"
      }
    },
    {
      "cell_type": "code",
      "source": [
        "# scalar\n",
        "scalar = torch.tensor(7)\n",
        "scalar"
      ],
      "metadata": {
        "colab": {
          "base_uri": "https://localhost:8080/"
        },
        "id": "DgdPYGtjHOJ8",
        "outputId": "f6c3da4e-7905-4bc8-8aa9-fa9b47dfed5c"
      },
      "execution_count": 2,
      "outputs": [
        {
          "output_type": "execute_result",
          "data": {
            "text/plain": [
              "tensor(7)"
            ]
          },
          "metadata": {},
          "execution_count": 2
        }
      ]
    },
    {
      "cell_type": "code",
      "source": [
        "scalar.ndim"
      ],
      "metadata": {
        "colab": {
          "base_uri": "https://localhost:8080/"
        },
        "id": "0-E7BaTsJq3w",
        "outputId": "7efe9b5e-31e7-4165-d9a1-b30e2fefed65"
      },
      "execution_count": 3,
      "outputs": [
        {
          "output_type": "execute_result",
          "data": {
            "text/plain": [
              "0"
            ]
          },
          "metadata": {},
          "execution_count": 3
        }
      ]
    },
    {
      "cell_type": "code",
      "source": [
        "# Get scalar back as Python integer\n",
        "scalar.item()"
      ],
      "metadata": {
        "colab": {
          "base_uri": "https://localhost:8080/"
        },
        "id": "jAWv2n4XKV40",
        "outputId": "29ec864c-dd62-4338-d644-4ce78c1d1838"
      },
      "execution_count": 4,
      "outputs": [
        {
          "output_type": "execute_result",
          "data": {
            "text/plain": [
              "7"
            ]
          },
          "metadata": {},
          "execution_count": 4
        }
      ]
    },
    {
      "cell_type": "code",
      "source": [
        "# Vector\n",
        "vector = torch.tensor([7, 7])\n",
        "vector.ndim\n",
        "# Number of dimensions are acctually number of embedded square brackets\n",
        "# like two dimensional arrays in java\n"
      ],
      "metadata": {
        "colab": {
          "base_uri": "https://localhost:8080/"
        },
        "id": "pluHm_9OKdwT",
        "outputId": "346702bb-1bf1-4d92-8145-6db86d6ae8c7"
      },
      "execution_count": 5,
      "outputs": [
        {
          "output_type": "execute_result",
          "data": {
            "text/plain": [
              "1"
            ]
          },
          "metadata": {},
          "execution_count": 5
        }
      ]
    },
    {
      "cell_type": "code",
      "source": [
        "vector.shape\n",
        "# .shape is giving the dimensions in the coordinate system"
      ],
      "metadata": {
        "colab": {
          "base_uri": "https://localhost:8080/"
        },
        "id": "_4CGC2zyKqPS",
        "outputId": "9fdb8d1f-1333-43ed-e0c4-1eb7c28434fe"
      },
      "execution_count": 6,
      "outputs": [
        {
          "output_type": "execute_result",
          "data": {
            "text/plain": [
              "torch.Size([2])"
            ]
          },
          "metadata": {},
          "execution_count": 6
        }
      ]
    },
    {
      "cell_type": "code",
      "source": [
        "# Matrix\n",
        "MATRIX = torch.tensor([[3, 5],\n",
        "                       [8, 7]])\n",
        "MATRIX"
      ],
      "metadata": {
        "colab": {
          "base_uri": "https://localhost:8080/"
        },
        "id": "pjblWFxELYcb",
        "outputId": "5ba2b22c-be6a-446b-f5cc-f85e0a2f1421"
      },
      "execution_count": 7,
      "outputs": [
        {
          "output_type": "execute_result",
          "data": {
            "text/plain": [
              "tensor([[3, 5],\n",
              "        [8, 7]])"
            ]
          },
          "metadata": {},
          "execution_count": 7
        }
      ]
    },
    {
      "cell_type": "code",
      "source": [
        "MATRIX.ndim"
      ],
      "metadata": {
        "colab": {
          "base_uri": "https://localhost:8080/"
        },
        "id": "f8HaNJTvMX9L",
        "outputId": "43027383-1192-4185-d804-b0206151a88a"
      },
      "execution_count": 8,
      "outputs": [
        {
          "output_type": "execute_result",
          "data": {
            "text/plain": [
              "2"
            ]
          },
          "metadata": {},
          "execution_count": 8
        }
      ]
    },
    {
      "cell_type": "code",
      "source": [
        "MATRIX.shape"
      ],
      "metadata": {
        "colab": {
          "base_uri": "https://localhost:8080/"
        },
        "id": "0xj-g9n8Mbd9",
        "outputId": "df199d68-c098-494f-e13e-ed7cc477abbb"
      },
      "execution_count": 9,
      "outputs": [
        {
          "output_type": "execute_result",
          "data": {
            "text/plain": [
              "torch.Size([2, 2])"
            ]
          },
          "metadata": {},
          "execution_count": 9
        }
      ]
    },
    {
      "cell_type": "code",
      "source": [
        "MATRIX[0]"
      ],
      "metadata": {
        "colab": {
          "base_uri": "https://localhost:8080/"
        },
        "id": "Px1bR-nTMd-O",
        "outputId": "55565a8d-470e-4060-f701-e589a3658aa8"
      },
      "execution_count": 10,
      "outputs": [
        {
          "output_type": "execute_result",
          "data": {
            "text/plain": [
              "tensor([3, 5])"
            ]
          },
          "metadata": {},
          "execution_count": 10
        }
      ]
    },
    {
      "cell_type": "code",
      "source": [
        "MATRIX[0][1]"
      ],
      "metadata": {
        "colab": {
          "base_uri": "https://localhost:8080/"
        },
        "id": "rdDq3xoMMpVL",
        "outputId": "b66afd4b-8724-4c04-84fb-418856aa97c9"
      },
      "execution_count": 11,
      "outputs": [
        {
          "output_type": "execute_result",
          "data": {
            "text/plain": [
              "tensor(5)"
            ]
          },
          "metadata": {},
          "execution_count": 11
        }
      ]
    },
    {
      "cell_type": "code",
      "source": [
        "# TENSOR\n",
        "TENSOR = torch.tensor([[[1, 5, 8],\n",
        "                        [4, 9, 7],\n",
        "                        [5, 0, -1]]])\n",
        "TENSOR"
      ],
      "metadata": {
        "colab": {
          "base_uri": "https://localhost:8080/"
        },
        "id": "smCtnYO1MuRv",
        "outputId": "ea11951d-737e-4d55-bb4c-152a0e413838"
      },
      "execution_count": 12,
      "outputs": [
        {
          "output_type": "execute_result",
          "data": {
            "text/plain": [
              "tensor([[[ 1,  5,  8],\n",
              "         [ 4,  9,  7],\n",
              "         [ 5,  0, -1]]])"
            ]
          },
          "metadata": {},
          "execution_count": 12
        }
      ]
    },
    {
      "cell_type": "code",
      "source": [
        "TENSOR.shape"
      ],
      "metadata": {
        "colab": {
          "base_uri": "https://localhost:8080/"
        },
        "id": "hHIW25f8NNcW",
        "outputId": "516bee64-2e7d-4e2c-cb9a-e67a8c724155"
      },
      "execution_count": 13,
      "outputs": [
        {
          "output_type": "execute_result",
          "data": {
            "text/plain": [
              "torch.Size([1, 3, 3])"
            ]
          },
          "metadata": {},
          "execution_count": 13
        }
      ]
    },
    {
      "cell_type": "code",
      "source": [
        "TENSOR.ndim"
      ],
      "metadata": {
        "colab": {
          "base_uri": "https://localhost:8080/"
        },
        "id": "3iqVKxe6NQ42",
        "outputId": "e9bbffdf-6a2b-4142-9579-9b0dc65d7fd0"
      },
      "execution_count": 14,
      "outputs": [
        {
          "output_type": "execute_result",
          "data": {
            "text/plain": [
              "3"
            ]
          },
          "metadata": {},
          "execution_count": 14
        }
      ]
    },
    {
      "cell_type": "code",
      "source": [
        " TENSOR[0]"
      ],
      "metadata": {
        "colab": {
          "base_uri": "https://localhost:8080/"
        },
        "id": "4i9S18FzNcwz",
        "outputId": "d1bc06c8-e61e-4146-8b3f-887248e64866"
      },
      "execution_count": 15,
      "outputs": [
        {
          "output_type": "execute_result",
          "data": {
            "text/plain": [
              "tensor([[ 1,  5,  8],\n",
              "        [ 4,  9,  7],\n",
              "        [ 5,  0, -1]])"
            ]
          },
          "metadata": {},
          "execution_count": 15
        }
      ]
    },
    {
      "cell_type": "code",
      "source": [
        "TENSOR[0, 0, 1]"
      ],
      "metadata": {
        "colab": {
          "base_uri": "https://localhost:8080/"
        },
        "id": "OcHRv6TjNn_z",
        "outputId": "01b21c1c-9d16-4f1e-d8f0-fc0b775651d4"
      },
      "execution_count": 16,
      "outputs": [
        {
          "output_type": "execute_result",
          "data": {
            "text/plain": [
              "tensor(5)"
            ]
          },
          "metadata": {},
          "execution_count": 16
        }
      ]
    },
    {
      "cell_type": "markdown",
      "source": [
        "### **Random Tensors**\n",
        "Random tensors are important because the way many neural networks learn is that they start with tensors full of random numbers and then adjust those random numbers to better represent the data."
      ],
      "metadata": {
        "id": "-HkpcOnr-24v"
      }
    },
    {
      "cell_type": "code",
      "source": [
        "# Create a random tensor of size (3, 4)\n",
        "random_tensor = torch.rand(3, 4)\n",
        "random_tensor"
      ],
      "metadata": {
        "colab": {
          "base_uri": "https://localhost:8080/"
        },
        "id": "VMbiFKMdAEaO",
        "outputId": "d7d59e5c-41ea-45b0-ddd1-25f9c2c11e32"
      },
      "execution_count": 17,
      "outputs": [
        {
          "output_type": "execute_result",
          "data": {
            "text/plain": [
              "tensor([[0.6308, 0.7285, 0.8207, 0.4760],\n",
              "        [0.6849, 0.7437, 0.4520, 0.8927],\n",
              "        [0.2605, 0.8994, 0.9036, 0.9344]])"
            ]
          },
          "metadata": {},
          "execution_count": 17
        }
      ]
    },
    {
      "cell_type": "code",
      "source": [
        "random_tensor.ndim"
      ],
      "metadata": {
        "colab": {
          "base_uri": "https://localhost:8080/"
        },
        "id": "Q7Ag5no1AQLG",
        "outputId": "c27a62a5-34ea-4a02-9bdf-03dc768720aa"
      },
      "execution_count": 18,
      "outputs": [
        {
          "output_type": "execute_result",
          "data": {
            "text/plain": [
              "2"
            ]
          },
          "metadata": {},
          "execution_count": 18
        }
      ]
    },
    {
      "cell_type": "code",
      "source": [
        "# Create a random tensor with similar shape to an image tensor\n",
        "random_image_size_tensor = torch.rand(size=(224, 224, 3)) # height, width, colour channels\n",
        "random_image_size_tensor.shape, random_image_size_tensor.ndim"
      ],
      "metadata": {
        "colab": {
          "base_uri": "https://localhost:8080/"
        },
        "id": "L3L9_t4oBHTO",
        "outputId": "d9e8484a-8ebb-48b7-ed60-94bca42fff22"
      },
      "execution_count": 19,
      "outputs": [
        {
          "output_type": "execute_result",
          "data": {
            "text/plain": [
              "(torch.Size([224, 224, 3]), 3)"
            ]
          },
          "metadata": {},
          "execution_count": 19
        }
      ]
    },
    {
      "cell_type": "code",
      "source": [
        "random_image_size_tensor"
      ],
      "metadata": {
        "colab": {
          "base_uri": "https://localhost:8080/"
        },
        "id": "k4H93HaGCjVL",
        "outputId": "e50ef39b-ac78-4894-d17a-1942d583e513"
      },
      "execution_count": 20,
      "outputs": [
        {
          "output_type": "execute_result",
          "data": {
            "text/plain": [
              "tensor([[[0.3991, 0.4022, 0.5919],\n",
              "         [0.0996, 0.5273, 0.0462],\n",
              "         [0.4732, 0.4931, 0.3119],\n",
              "         ...,\n",
              "         [0.2744, 0.6988, 0.8897],\n",
              "         [0.8076, 0.2274, 0.5004],\n",
              "         [0.8848, 0.8656, 0.3798]],\n",
              "\n",
              "        [[0.5171, 0.7564, 0.3443],\n",
              "         [0.8622, 0.6179, 0.9630],\n",
              "         [0.3884, 0.1440, 0.9429],\n",
              "         ...,\n",
              "         [0.4389, 0.5475, 0.0020],\n",
              "         [0.0578, 0.1948, 0.1487],\n",
              "         [0.0472, 0.7699, 0.5866]],\n",
              "\n",
              "        [[0.7332, 0.2600, 0.9615],\n",
              "         [0.6866, 0.2407, 0.8365],\n",
              "         [0.3037, 0.9739, 0.2496],\n",
              "         ...,\n",
              "         [0.6139, 0.3377, 0.3655],\n",
              "         [0.4617, 0.7441, 0.1793],\n",
              "         [0.8362, 0.4611, 0.6363]],\n",
              "\n",
              "        ...,\n",
              "\n",
              "        [[0.4275, 0.7557, 0.4176],\n",
              "         [0.0567, 0.4460, 0.0580],\n",
              "         [0.4123, 0.7133, 0.1693],\n",
              "         ...,\n",
              "         [0.9830, 0.9628, 0.0635],\n",
              "         [0.5977, 0.0394, 0.1109],\n",
              "         [0.8494, 0.6782, 0.0783]],\n",
              "\n",
              "        [[0.2793, 0.6771, 0.4876],\n",
              "         [0.5110, 0.2233, 0.0282],\n",
              "         [0.2338, 0.3472, 0.0470],\n",
              "         ...,\n",
              "         [0.9864, 0.8976, 0.8279],\n",
              "         [0.7425, 0.9664, 0.9252],\n",
              "         [0.7223, 0.9871, 0.8664]],\n",
              "\n",
              "        [[0.9318, 0.4858, 0.1044],\n",
              "         [0.4318, 0.8715, 0.6775],\n",
              "         [0.2051, 0.0530, 0.2511],\n",
              "         ...,\n",
              "         [0.6487, 0.2394, 0.2570],\n",
              "         [0.7861, 0.5628, 0.6992],\n",
              "         [0.2389, 0.6237, 0.8439]]])"
            ]
          },
          "metadata": {},
          "execution_count": 20
        }
      ]
    },
    {
      "cell_type": "markdown",
      "source": [
        "### Zeros and ones"
      ],
      "metadata": {
        "id": "5PYK6ODjD1cl"
      }
    },
    {
      "cell_type": "code",
      "source": [
        "# Create a tensor of all zeors\n",
        "zeros = torch.zeros(size=(3, 4))\n",
        "zeros"
      ],
      "metadata": {
        "colab": {
          "base_uri": "https://localhost:8080/"
        },
        "id": "spFCGfRgEEA6",
        "outputId": "fa6ac688-65c8-45b9-e4c9-3bae93b78330"
      },
      "execution_count": 21,
      "outputs": [
        {
          "output_type": "execute_result",
          "data": {
            "text/plain": [
              "tensor([[0., 0., 0., 0.],\n",
              "        [0., 0., 0., 0.],\n",
              "        [0., 0., 0., 0.]])"
            ]
          },
          "metadata": {},
          "execution_count": 21
        }
      ]
    },
    {
      "cell_type": "code",
      "source": [
        "zeros*random_tensor"
      ],
      "metadata": {
        "colab": {
          "base_uri": "https://localhost:8080/"
        },
        "id": "UfSQMeWjENyE",
        "outputId": "fdbd4db3-fe96-4a0a-d789-e2e00ad37046"
      },
      "execution_count": 22,
      "outputs": [
        {
          "output_type": "execute_result",
          "data": {
            "text/plain": [
              "tensor([[0., 0., 0., 0.],\n",
              "        [0., 0., 0., 0.],\n",
              "        [0., 0., 0., 0.]])"
            ]
          },
          "metadata": {},
          "execution_count": 22
        }
      ]
    },
    {
      "cell_type": "code",
      "source": [
        "# Create a trernsor of all ones\n",
        "ones = torch.ones(size=(3, 4))\n",
        "ones"
      ],
      "metadata": {
        "colab": {
          "base_uri": "https://localhost:8080/"
        },
        "id": "nORLgb_NEWWR",
        "outputId": "5733f1e8-8d38-4f3e-ed5a-905745fa6cf0"
      },
      "execution_count": 23,
      "outputs": [
        {
          "output_type": "execute_result",
          "data": {
            "text/plain": [
              "tensor([[1., 1., 1., 1.],\n",
              "        [1., 1., 1., 1.],\n",
              "        [1., 1., 1., 1.]])"
            ]
          },
          "metadata": {},
          "execution_count": 23
        }
      ]
    },
    {
      "cell_type": "code",
      "source": [
        "ones.dtype"
      ],
      "metadata": {
        "colab": {
          "base_uri": "https://localhost:8080/"
        },
        "id": "KHK1NhvbEmUq",
        "outputId": "4245858d-da29-4b98-b195-f916f6b2b67a"
      },
      "execution_count": 24,
      "outputs": [
        {
          "output_type": "execute_result",
          "data": {
            "text/plain": [
              "torch.float32"
            ]
          },
          "metadata": {},
          "execution_count": 24
        }
      ]
    },
    {
      "cell_type": "code",
      "source": [
        "random_tensor.dtype"
      ],
      "metadata": {
        "colab": {
          "base_uri": "https://localhost:8080/"
        },
        "id": "UfrxCxhaEoyJ",
        "outputId": "16dac24a-41d9-4841-8935-0b5d43d563ef"
      },
      "execution_count": 25,
      "outputs": [
        {
          "output_type": "execute_result",
          "data": {
            "text/plain": [
              "torch.float32"
            ]
          },
          "metadata": {},
          "execution_count": 25
        }
      ]
    },
    {
      "cell_type": "markdown",
      "source": [
        "###Creating a range of tensors and tensors-like"
      ],
      "metadata": {
        "id": "LV-KFnotFG7G"
      }
    },
    {
      "cell_type": "code",
      "source": [
        "# Use torch.arange() instead of torch.range()\n",
        "zero_to_thousand = torch.arange(start=0, end=1000, step=68)\n",
        "zero_to_thousand"
      ],
      "metadata": {
        "colab": {
          "base_uri": "https://localhost:8080/"
        },
        "id": "fxla-oKgFGq1",
        "outputId": "de1744fc-8ec3-46f2-a403-ccf19cf16ef0"
      },
      "execution_count": 26,
      "outputs": [
        {
          "output_type": "execute_result",
          "data": {
            "text/plain": [
              "tensor([  0,  68, 136, 204, 272, 340, 408, 476, 544, 612, 680, 748, 816, 884,\n",
              "        952])"
            ]
          },
          "metadata": {},
          "execution_count": 26
        }
      ]
    },
    {
      "cell_type": "code",
      "source": [
        "# Creating tensors like\n",
        "zeroes_like = torch.zeros_like(input=zero_to_thousand)\n",
        "zeroes_like"
      ],
      "metadata": {
        "colab": {
          "base_uri": "https://localhost:8080/"
        },
        "id": "0UlbzoAhFUVw",
        "outputId": "88fc48ef-803b-4275-bbfd-63b24b978d04"
      },
      "execution_count": 27,
      "outputs": [
        {
          "output_type": "execute_result",
          "data": {
            "text/plain": [
              "tensor([0, 0, 0, 0, 0, 0, 0, 0, 0, 0, 0, 0, 0, 0, 0])"
            ]
          },
          "metadata": {},
          "execution_count": 27
        }
      ]
    },
    {
      "cell_type": "markdown",
      "source": [
        "### Tensor Datatypes\n",
        "3-possible tensor errors\n",
        "\n",
        "1. Tensors not right datatype\n",
        "2. Tensors not right shape\n",
        "3. Tensors not on right device"
      ],
      "metadata": {
        "id": "S5QKpL9eHzz7"
      }
    },
    {
      "cell_type": "code",
      "source": [
        "# Float 32 tensor\n",
        "float_32_tensor = torch.tensor([3.0, 6.0, 8.0],\n",
        "                               dtype=None)\n",
        "print(float_32_tensor.dtype) # Default tensor datatype is float 32\n",
        "\n",
        "float_16_tensor = torch.tensor([5.0, 6.0, 4.3],\n",
        "                               dtype=torch.float16, # What datatype is the tensor (e.g. float32 -> single precision more digits, float16 -> half precision faster operations, complex32, )\n",
        "                               device=None, # What device is your tensor on, You cannot do an operation between two tensors that are on the different devices\n",
        "                               requires_grad=False) # Pytorch to track the gradient\n",
        "float_16_tensor.dtype"
      ],
      "metadata": {
        "colab": {
          "base_uri": "https://localhost:8080/"
        },
        "id": "BnUCVywAH5e2",
        "outputId": "73dd4347-b4b5-43f5-9035-a83e8c11c131"
      },
      "execution_count": 28,
      "outputs": [
        {
          "output_type": "stream",
          "name": "stdout",
          "text": [
            "torch.float32\n"
          ]
        },
        {
          "output_type": "execute_result",
          "data": {
            "text/plain": [
              "torch.float16"
            ]
          },
          "metadata": {},
          "execution_count": 28
        }
      ]
    },
    {
      "cell_type": "code",
      "source": [
        "float_16_tensor = float_32_tensor.type(torch.float16)\n",
        "float_16_tensor"
      ],
      "metadata": {
        "colab": {
          "base_uri": "https://localhost:8080/"
        },
        "id": "OVOod0l1IKQZ",
        "outputId": "ef87e838-25f2-4499-db79-e3b46b207f4d"
      },
      "execution_count": 29,
      "outputs": [
        {
          "output_type": "execute_result",
          "data": {
            "text/plain": [
              "tensor([3., 6., 8.], dtype=torch.float16)"
            ]
          },
          "metadata": {},
          "execution_count": 29
        }
      ]
    },
    {
      "cell_type": "code",
      "source": [
        "float_16_tensor * float_32_tensor"
      ],
      "metadata": {
        "colab": {
          "base_uri": "https://localhost:8080/"
        },
        "id": "JHZOMg5jK5_v",
        "outputId": "a9b95e55-063a-4259-b787-61ed54af0eb7"
      },
      "execution_count": 30,
      "outputs": [
        {
          "output_type": "execute_result",
          "data": {
            "text/plain": [
              "tensor([ 9., 36., 64.])"
            ]
          },
          "metadata": {},
          "execution_count": 30
        }
      ]
    },
    {
      "cell_type": "code",
      "source": [
        "int_32_tensor = torch.tensor([3, 7, 8],\n",
        "                             dtype=torch.int32)\n",
        "int_32_tensor"
      ],
      "metadata": {
        "id": "S362rKRSLVv4",
        "colab": {
          "base_uri": "https://localhost:8080/"
        },
        "outputId": "67cb095f-2fd1-4be0-e499-6bb03305b814"
      },
      "execution_count": 31,
      "outputs": [
        {
          "output_type": "execute_result",
          "data": {
            "text/plain": [
              "tensor([3, 7, 8], dtype=torch.int32)"
            ]
          },
          "metadata": {},
          "execution_count": 31
        }
      ]
    },
    {
      "cell_type": "code",
      "source": [
        "float_32_tensor * int_32_tensor"
      ],
      "metadata": {
        "colab": {
          "base_uri": "https://localhost:8080/"
        },
        "id": "-mx6VCkW7ms8",
        "outputId": "23feee08-cd6d-4b4d-983d-c4d26236f856"
      },
      "execution_count": 32,
      "outputs": [
        {
          "output_type": "execute_result",
          "data": {
            "text/plain": [
              "tensor([ 9., 42., 64.])"
            ]
          },
          "metadata": {},
          "execution_count": 32
        }
      ]
    },
    {
      "cell_type": "markdown",
      "source": [
        "### Getting Information From Tensors (tensor attributes)\n",
        "\n",
        "\n"
      ],
      "metadata": {
        "id": "22odLTrt8Bag"
      }
    },
    {
      "cell_type": "markdown",
      "source": [
        "To get datatype: tensor.dtype\n",
        "\n",
        "To get shpe from tensor: tensor.hape\n",
        "\n",
        "To get device from tensor: tensor.device"
      ],
      "metadata": {
        "id": "nWZs26P682uz"
      }
    },
    {
      "cell_type": "code",
      "source": [
        "# Create a tensor\n",
        "some_tensor = torch.rand(3, 4)\n",
        "some_tensor"
      ],
      "metadata": {
        "colab": {
          "base_uri": "https://localhost:8080/"
        },
        "id": "k_6Jlhd79Qoy",
        "outputId": "ddd9cee2-9c95-45b6-e313-98b6a160dc92"
      },
      "execution_count": 33,
      "outputs": [
        {
          "output_type": "execute_result",
          "data": {
            "text/plain": [
              "tensor([[0.3030, 0.9318, 0.2492, 0.3179],\n",
              "        [0.8549, 0.4914, 0.9994, 0.6488],\n",
              "        [0.5497, 0.6225, 0.3377, 0.9832]])"
            ]
          },
          "metadata": {},
          "execution_count": 33
        }
      ]
    },
    {
      "cell_type": "code",
      "source": [
        "print(some_tensor)\n",
        "print(f\"Datatype of tensor: {some_tensor.dtype}\")\n",
        "print(f\"Shape of tensor: {some_tensor.shape}\")\n",
        "print(f\"Device of tensor: {some_tensor.device}\")"
      ],
      "metadata": {
        "colab": {
          "base_uri": "https://localhost:8080/"
        },
        "id": "zTWAe2rz9cRL",
        "outputId": "7fd432a8-7fab-4a0a-cdc8-68abbe26b8e6"
      },
      "execution_count": 34,
      "outputs": [
        {
          "output_type": "stream",
          "name": "stdout",
          "text": [
            "tensor([[0.3030, 0.9318, 0.2492, 0.3179],\n",
            "        [0.8549, 0.4914, 0.9994, 0.6488],\n",
            "        [0.5497, 0.6225, 0.3377, 0.9832]])\n",
            "Datatype of tensor: torch.float32\n",
            "Shape of tensor: torch.Size([3, 4])\n",
            "Device of tensor: cpu\n"
          ]
        }
      ]
    },
    {
      "cell_type": "markdown",
      "source": [
        "  ### Tensor Operations\n",
        "\n",
        "  Tensor operations include:\n",
        "  - Addition\n",
        "  - Subtractinn\n",
        "  - Multiplication (element-wise)\n",
        "  - Division\n",
        "  - Matrix multiplication"
      ],
      "metadata": {
        "id": "XFZno0Xe97EL"
      }
    },
    {
      "cell_type": "code",
      "source": [
        "# Create a tensor\n",
        "tensor = torch.tensor([1, 4, 6])\n",
        "# Addition\n",
        "tensor = tensor + 10\n",
        "tensor"
      ],
      "metadata": {
        "colab": {
          "base_uri": "https://localhost:8080/"
        },
        "id": "-8uQ25PbA3t5",
        "outputId": "918e4e18-c474-4873-b409-3d313e26c0f3"
      },
      "execution_count": 35,
      "outputs": [
        {
          "output_type": "execute_result",
          "data": {
            "text/plain": [
              "tensor([11, 14, 16])"
            ]
          },
          "metadata": {},
          "execution_count": 35
        }
      ]
    },
    {
      "cell_type": "code",
      "source": [
        "# Multiplication\n",
        "tensor = tensor * 10\n",
        "tensor"
      ],
      "metadata": {
        "colab": {
          "base_uri": "https://localhost:8080/"
        },
        "id": "2E6rLNYLCBUf",
        "outputId": "e3aab250-bb57-489e-e76e-ecab2648c120"
      },
      "execution_count": 36,
      "outputs": [
        {
          "output_type": "execute_result",
          "data": {
            "text/plain": [
              "tensor([110, 140, 160])"
            ]
          },
          "metadata": {},
          "execution_count": 36
        }
      ]
    },
    {
      "cell_type": "code",
      "source": [
        "# Subtraction\n",
        "tensor = tensor - 10\n",
        "tensor"
      ],
      "metadata": {
        "colab": {
          "base_uri": "https://localhost:8080/"
        },
        "id": "wHnwm3PrCL_2",
        "outputId": "d3f9f00c-445f-49a5-c27d-54cbd66be366"
      },
      "execution_count": 37,
      "outputs": [
        {
          "output_type": "execute_result",
          "data": {
            "text/plain": [
              "tensor([100, 130, 150])"
            ]
          },
          "metadata": {},
          "execution_count": 37
        }
      ]
    },
    {
      "cell_type": "code",
      "source": [
        "# Try out pytorch in built functions\n",
        "torch.mul(tensor, 10)\n",
        "torch.add(tensor, 10)"
      ],
      "metadata": {
        "colab": {
          "base_uri": "https://localhost:8080/"
        },
        "id": "gL17Yp6ECOa2",
        "outputId": "3fd5cd62-a6b6-461c-d6c3-0202bbc9ffa7"
      },
      "execution_count": 38,
      "outputs": [
        {
          "output_type": "execute_result",
          "data": {
            "text/plain": [
              "tensor([110, 140, 160])"
            ]
          },
          "metadata": {},
          "execution_count": 38
        }
      ]
    },
    {
      "cell_type": "markdown",
      "source": [
        "### Matrix Multiplication\n",
        "\n",
        "Two main ways of performing multiplication in neural network and deep learnning:\n",
        "\n",
        "1) Element-wise multiplication\n",
        "\n",
        "2) Matrix multiplication (dot product)"
      ],
      "metadata": {
        "id": "6-kb7CnCDjne"
      }
    },
    {
      "cell_type": "code",
      "source": [
        " # Element wise multiplication\n",
        " print(tensor, \"*\", tensor)\n",
        " print(f\"Equals: {tensor * tensor}\")"
      ],
      "metadata": {
        "colab": {
          "base_uri": "https://localhost:8080/"
        },
        "id": "7c5eVtOmD8lG",
        "outputId": "9bc45a80-8147-428e-8bd7-3b50d14fe04a"
      },
      "execution_count": 39,
      "outputs": [
        {
          "output_type": "stream",
          "name": "stdout",
          "text": [
            "tensor([100, 130, 150]) * tensor([100, 130, 150])\n",
            "Equals: tensor([10000, 16900, 22500])\n"
          ]
        }
      ]
    },
    {
      "cell_type": "code",
      "source": [
        "# Matrix Multiplication\n",
        "torch.matmul( tensor, tensor)"
      ],
      "metadata": {
        "colab": {
          "base_uri": "https://localhost:8080/"
        },
        "id": "ykmMEdLIFijm",
        "outputId": "b14414fd-6852-476a-d607-0f5c2b6c065c"
      },
      "execution_count": 40,
      "outputs": [
        {
          "output_type": "execute_result",
          "data": {
            "text/plain": [
              "tensor(49400)"
            ]
          },
          "metadata": {},
          "execution_count": 40
        }
      ]
    },
    {
      "cell_type": "markdown",
      "source": [
        "It is a lot faster to do it by using pytorch matmul method than doing it by hand"
      ],
      "metadata": {
        "id": "8f0935WpF1SA"
      }
    },
    {
      "cell_type": "markdown",
      "source": [
        "### One of the most common errors in deep learning: Shape errors\n",
        "##There are two main rules that performing matrix multiplication needs to satisfy:\n",
        "1. The **inner dimensions** must match: (@ means matrix multiplication)\n",
        "* (3, **2**) @ (**3**, 2) wont work\n",
        "* (2, **3**) @ (**3**, 2) will work\n",
        "* (3, **2**) @ (**2**, 3) will work\n",
        "2. The resulting matrix has the shape of **outer dimensions**\n",
        "* (2, 3) @ (3, 2)  ---> (2, 2)\n",
        "* (3, 2) @ (2, 3)  ---> (2, 2)"
      ],
      "metadata": {
        "id": "GeGrfJF_P3mB"
      }
    },
    {
      "cell_type": "code",
      "source": [
        "# Shapes for maatrix multiplication\n",
        "tensor_A = torch.tensor([[1, 2],\n",
        "                         [3, 4],\n",
        "                         [5, 6]])\n",
        "tensor_B = torch.tensor([[7, 10],\n",
        "                         [8, 11],\n",
        "                         [9, 12]])\n",
        "torch.mm(tensor_A, tensor_B) # torch.mm is the same as torch.matmmul\n",
        "# It wont work"
      ],
      "metadata": {
        "colab": {
          "base_uri": "https://localhost:8080/",
          "height": 193
        },
        "id": "_XMo9xJIRe_-",
        "outputId": "e8f0775a-f4b0-4127-fb3a-83866c6f75d1"
      },
      "execution_count": 47,
      "outputs": [
        {
          "output_type": "error",
          "ename": "RuntimeError",
          "evalue": "mat1 and mat2 shapes cannot be multiplied (3x2 and 3x2)",
          "traceback": [
            "\u001b[0;31m---------------------------------------------------------------------------\u001b[0m",
            "\u001b[0;31mRuntimeError\u001b[0m                              Traceback (most recent call last)",
            "\u001b[0;32m<ipython-input-47-9cf877b352f2>\u001b[0m in \u001b[0;36m<cell line: 8>\u001b[0;34m()\u001b[0m\n\u001b[1;32m      6\u001b[0m                          \u001b[0;34m[\u001b[0m\u001b[0;36m8\u001b[0m\u001b[0;34m,\u001b[0m \u001b[0;36m11\u001b[0m\u001b[0;34m]\u001b[0m\u001b[0;34m,\u001b[0m\u001b[0;34m\u001b[0m\u001b[0;34m\u001b[0m\u001b[0m\n\u001b[1;32m      7\u001b[0m                          [9, 12]])\n\u001b[0;32m----> 8\u001b[0;31m \u001b[0mtorch\u001b[0m\u001b[0;34m.\u001b[0m\u001b[0mmm\u001b[0m\u001b[0;34m(\u001b[0m\u001b[0mtensor_A\u001b[0m\u001b[0;34m,\u001b[0m \u001b[0mtensor_B\u001b[0m\u001b[0;34m)\u001b[0m \u001b[0;31m# torch.mm is the same as torch.matmmul\u001b[0m\u001b[0;34m\u001b[0m\u001b[0;34m\u001b[0m\u001b[0m\n\u001b[0m\u001b[1;32m      9\u001b[0m \u001b[0;31m# It wont work\u001b[0m\u001b[0;34m\u001b[0m\u001b[0;34m\u001b[0m\u001b[0m\n",
            "\u001b[0;31mRuntimeError\u001b[0m: mat1 and mat2 shapes cannot be multiplied (3x2 and 3x2)"
          ]
        }
      ]
    },
    {
      "cell_type": "code",
      "source": [
        "tensor_A.shape, tensor_B.shape"
      ],
      "metadata": {
        "colab": {
          "base_uri": "https://localhost:8080/"
        },
        "id": "2MHJ_AuVTCmt",
        "outputId": "84c6bd0d-3e30-4795-a22d-c5f77707f6b7"
      },
      "execution_count": 42,
      "outputs": [
        {
          "output_type": "execute_result",
          "data": {
            "text/plain": [
              "(torch.Size([3, 2]), torch.Size([3, 2]))"
            ]
          },
          "metadata": {},
          "execution_count": 42
        }
      ]
    },
    {
      "cell_type": "markdown",
      "source": [
        " To fix our tensor shape issues, we can manipulatae the shape of one of our tensors using transpose.\n",
        "\n",
        " A **transpose** switches the axes or the dimensions of a given tensor."
      ],
      "metadata": {
        "id": "rjvGOg2uTAxc"
      }
    },
    {
      "cell_type": "code",
      "source": [
        "tensor_B.T, tensor_B.T.shape"
      ],
      "metadata": {
        "colab": {
          "base_uri": "https://localhost:8080/"
        },
        "id": "wxzTKKOmTVq3",
        "outputId": "4d70480c-80e1-4ba7-c749-09e5d17bf5e5"
      },
      "execution_count": 45,
      "outputs": [
        {
          "output_type": "execute_result",
          "data": {
            "text/plain": [
              "(tensor([[ 7,  8,  9],\n",
              "         [10, 11, 12]]),\n",
              " torch.Size([2, 3]))"
            ]
          },
          "metadata": {},
          "execution_count": 45
        }
      ]
    },
    {
      "cell_type": "code",
      "source": [
        "tensor_B, tensor_B.shape"
      ],
      "metadata": {
        "colab": {
          "base_uri": "https://localhost:8080/"
        },
        "id": "TBGBFP1mTYdV",
        "outputId": "aa41d026-5c42-4a74-d035-bcdeb2337cee"
      },
      "execution_count": 46,
      "outputs": [
        {
          "output_type": "execute_result",
          "data": {
            "text/plain": [
              "(tensor([[ 7, 10],\n",
              "         [ 8, 11],\n",
              "         [ 9, 12]]),\n",
              " torch.Size([3, 2]))"
            ]
          },
          "metadata": {},
          "execution_count": 46
        }
      ]
    },
    {
      "cell_type": "code",
      "source": [
        "# The matrix multiplicationn operation works when tensor_B is transposed\n",
        "\n",
        "torch.mm(tensor_A, tensor_B.T), torch.mm(tensor_A, tensor_B.T).shape"
      ],
      "metadata": {
        "colab": {
          "base_uri": "https://localhost:8080/"
        },
        "id": "GxqSWs2aTcNv",
        "outputId": "40fac2fe-b26b-474d-e65e-7c30e720d934"
      },
      "execution_count": 51,
      "outputs": [
        {
          "output_type": "execute_result",
          "data": {
            "text/plain": [
              "(tensor([[ 27,  30,  33],\n",
              "         [ 61,  68,  75],\n",
              "         [ 95, 106, 117]]),\n",
              " torch.Size([3, 3]))"
            ]
          },
          "metadata": {},
          "execution_count": 51
        }
      ]
    },
    {
      "cell_type": "code",
      "source": [],
      "metadata": {
        "id": "BrCRNqS7T6o1"
      },
      "execution_count": null,
      "outputs": []
    }
  ]
}