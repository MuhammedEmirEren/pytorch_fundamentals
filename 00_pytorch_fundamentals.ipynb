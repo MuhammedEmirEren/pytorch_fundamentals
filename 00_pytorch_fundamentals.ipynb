{
  "nbformat": 4,
  "nbformat_minor": 0,
  "metadata": {
    "colab": {
      "provenance": [],
      "authorship_tag": "ABX9TyPh0i07fUQpVKOvK4yE6IKQ",
      "include_colab_link": true
    },
    "kernelspec": {
      "name": "python3",
      "display_name": "Python 3"
    },
    "language_info": {
      "name": "python"
    }
  },
  "cells": [
    {
      "cell_type": "markdown",
      "metadata": {
        "id": "view-in-github",
        "colab_type": "text"
      },
      "source": [
        "<a href=\"https://colab.research.google.com/github/MuhammedEmirEren/pytorch_fundamentals/blob/main/00_pytorch_fundamentals.ipynb\" target=\"_parent\"><img src=\"https://colab.research.google.com/assets/colab-badge.svg\" alt=\"Open In Colab\"/></a>"
      ]
    },
    {
      "cell_type": "markdown",
      "source": [
        "## 00. Pytorch Fundamentals"
      ],
      "metadata": {
        "id": "titmf4WjCNhn"
      }
    },
    {
      "cell_type": "code",
      "source": [
        "import torch\n",
        "import pandas as pd\n",
        "import matplotlib.pyplot as plt\n",
        "import numpy as np\n",
        "print(torch.__version__)"
      ],
      "metadata": {
        "colab": {
          "base_uri": "https://localhost:8080/"
        },
        "id": "hYY-BHiDDWqf",
        "outputId": "8a3c9d62-a5be-4fe0-c4d7-5ba1cb80902d"
      },
      "execution_count": 2,
      "outputs": [
        {
          "output_type": "stream",
          "name": "stdout",
          "text": [
            "2.3.0+cu121\n"
          ]
        }
      ]
    },
    {
      "cell_type": "markdown",
      "source": [
        "# Tensors\n",
        "Creating Tensors\n",
        "\n",
        "pytorch tensors are created using torcch.tensor()\n",
        "-->>> https://pytorch.org/docs/stable/tensors.html#initializing-and-basic-operations\n",
        "\n",
        ".ndim is to get number of dimensions of tensor"
      ],
      "metadata": {
        "id": "XiilpnvpHO6c"
      }
    },
    {
      "cell_type": "code",
      "source": [
        "# scalar\n",
        "scalar = torch.tensor(7)\n",
        "scalar"
      ],
      "metadata": {
        "colab": {
          "base_uri": "https://localhost:8080/"
        },
        "id": "DgdPYGtjHOJ8",
        "outputId": "bd204c46-fd7d-4fdd-8455-d4a025eb9bd3"
      },
      "execution_count": 3,
      "outputs": [
        {
          "output_type": "execute_result",
          "data": {
            "text/plain": [
              "tensor(7)"
            ]
          },
          "metadata": {},
          "execution_count": 3
        }
      ]
    },
    {
      "cell_type": "code",
      "source": [
        "scalar.ndim"
      ],
      "metadata": {
        "colab": {
          "base_uri": "https://localhost:8080/"
        },
        "id": "0-E7BaTsJq3w",
        "outputId": "b7577123-e50f-4340-9d64-228159991e91"
      },
      "execution_count": 4,
      "outputs": [
        {
          "output_type": "execute_result",
          "data": {
            "text/plain": [
              "0"
            ]
          },
          "metadata": {},
          "execution_count": 4
        }
      ]
    },
    {
      "cell_type": "code",
      "source": [
        "# Get scalar back as Python integer\n",
        "scalar.item()"
      ],
      "metadata": {
        "colab": {
          "base_uri": "https://localhost:8080/"
        },
        "id": "jAWv2n4XKV40",
        "outputId": "110dbe18-58a9-45f8-b41f-aad5ff8d1c75"
      },
      "execution_count": 5,
      "outputs": [
        {
          "output_type": "execute_result",
          "data": {
            "text/plain": [
              "7"
            ]
          },
          "metadata": {},
          "execution_count": 5
        }
      ]
    },
    {
      "cell_type": "code",
      "source": [
        "# Vector\n",
        "vector = torch.tensor([7, 7])\n",
        "vector.ndim\n",
        "# Number of dimensions are acctually number of embedded square brackets\n",
        "# like two dimensional arrays in java\n"
      ],
      "metadata": {
        "colab": {
          "base_uri": "https://localhost:8080/"
        },
        "id": "pluHm_9OKdwT",
        "outputId": "b6c33792-7ee6-426a-cc24-742cb6431540"
      },
      "execution_count": 6,
      "outputs": [
        {
          "output_type": "execute_result",
          "data": {
            "text/plain": [
              "1"
            ]
          },
          "metadata": {},
          "execution_count": 6
        }
      ]
    },
    {
      "cell_type": "code",
      "source": [
        "vector.shape\n",
        "# .shape is giving the dimensions in the coordinate system"
      ],
      "metadata": {
        "colab": {
          "base_uri": "https://localhost:8080/"
        },
        "id": "_4CGC2zyKqPS",
        "outputId": "c745d351-84b1-461b-edd3-06b2a9e2061f"
      },
      "execution_count": 7,
      "outputs": [
        {
          "output_type": "execute_result",
          "data": {
            "text/plain": [
              "torch.Size([2])"
            ]
          },
          "metadata": {},
          "execution_count": 7
        }
      ]
    },
    {
      "cell_type": "code",
      "source": [
        "# Matrix\n",
        "MATRIX = torch.tensor([[3, 5],\n",
        "                       [8, 7]])\n",
        "MATRIX"
      ],
      "metadata": {
        "colab": {
          "base_uri": "https://localhost:8080/"
        },
        "id": "pjblWFxELYcb",
        "outputId": "521b5173-4936-4292-db2d-0805f5d20a1e"
      },
      "execution_count": 8,
      "outputs": [
        {
          "output_type": "execute_result",
          "data": {
            "text/plain": [
              "tensor([[3, 5],\n",
              "        [8, 7]])"
            ]
          },
          "metadata": {},
          "execution_count": 8
        }
      ]
    },
    {
      "cell_type": "code",
      "source": [
        "MATRIX.ndim"
      ],
      "metadata": {
        "colab": {
          "base_uri": "https://localhost:8080/"
        },
        "id": "f8HaNJTvMX9L",
        "outputId": "639d12a2-3246-432e-91ea-ea334e0409c4"
      },
      "execution_count": 9,
      "outputs": [
        {
          "output_type": "execute_result",
          "data": {
            "text/plain": [
              "2"
            ]
          },
          "metadata": {},
          "execution_count": 9
        }
      ]
    },
    {
      "cell_type": "code",
      "source": [
        "MATRIX.shape"
      ],
      "metadata": {
        "colab": {
          "base_uri": "https://localhost:8080/"
        },
        "id": "0xj-g9n8Mbd9",
        "outputId": "c50c7312-f2a6-44d1-d9d3-26f9ef50fb4a"
      },
      "execution_count": 10,
      "outputs": [
        {
          "output_type": "execute_result",
          "data": {
            "text/plain": [
              "torch.Size([2, 2])"
            ]
          },
          "metadata": {},
          "execution_count": 10
        }
      ]
    },
    {
      "cell_type": "code",
      "source": [
        "MATRIX[0]"
      ],
      "metadata": {
        "colab": {
          "base_uri": "https://localhost:8080/"
        },
        "id": "Px1bR-nTMd-O",
        "outputId": "a382ac21-e873-4962-8a1e-b53c68641079"
      },
      "execution_count": 11,
      "outputs": [
        {
          "output_type": "execute_result",
          "data": {
            "text/plain": [
              "tensor([3, 5])"
            ]
          },
          "metadata": {},
          "execution_count": 11
        }
      ]
    },
    {
      "cell_type": "code",
      "source": [
        "MATRIX[0][1]"
      ],
      "metadata": {
        "colab": {
          "base_uri": "https://localhost:8080/"
        },
        "id": "rdDq3xoMMpVL",
        "outputId": "64ad837c-43b9-4f2b-cc40-8eb98a0f995c"
      },
      "execution_count": 12,
      "outputs": [
        {
          "output_type": "execute_result",
          "data": {
            "text/plain": [
              "tensor(5)"
            ]
          },
          "metadata": {},
          "execution_count": 12
        }
      ]
    },
    {
      "cell_type": "code",
      "source": [
        "# TENSOR\n",
        "TENSOR = torch.tensor([[[1, 5, 8],\n",
        "                        [4, 9, 7],\n",
        "                        [5, 0, -1]]])\n",
        "TENSOR"
      ],
      "metadata": {
        "colab": {
          "base_uri": "https://localhost:8080/"
        },
        "id": "smCtnYO1MuRv",
        "outputId": "d8b50f36-bd7d-4bfa-d3d1-101736f91e0c"
      },
      "execution_count": 13,
      "outputs": [
        {
          "output_type": "execute_result",
          "data": {
            "text/plain": [
              "tensor([[[ 1,  5,  8],\n",
              "         [ 4,  9,  7],\n",
              "         [ 5,  0, -1]]])"
            ]
          },
          "metadata": {},
          "execution_count": 13
        }
      ]
    },
    {
      "cell_type": "code",
      "source": [
        "TENSOR.shape"
      ],
      "metadata": {
        "colab": {
          "base_uri": "https://localhost:8080/"
        },
        "id": "hHIW25f8NNcW",
        "outputId": "df500b3a-cd62-4998-94f4-ad1b4abdc061"
      },
      "execution_count": 14,
      "outputs": [
        {
          "output_type": "execute_result",
          "data": {
            "text/plain": [
              "torch.Size([1, 3, 3])"
            ]
          },
          "metadata": {},
          "execution_count": 14
        }
      ]
    },
    {
      "cell_type": "code",
      "source": [
        "TENSOR.ndim"
      ],
      "metadata": {
        "colab": {
          "base_uri": "https://localhost:8080/"
        },
        "id": "3iqVKxe6NQ42",
        "outputId": "f2da1bb9-e235-4093-ed7c-bd77ab249ddf"
      },
      "execution_count": 15,
      "outputs": [
        {
          "output_type": "execute_result",
          "data": {
            "text/plain": [
              "3"
            ]
          },
          "metadata": {},
          "execution_count": 15
        }
      ]
    },
    {
      "cell_type": "code",
      "source": [
        " TENSOR[0]"
      ],
      "metadata": {
        "colab": {
          "base_uri": "https://localhost:8080/"
        },
        "id": "4i9S18FzNcwz",
        "outputId": "e31bae31-0442-4558-dede-23f25254ccba"
      },
      "execution_count": 16,
      "outputs": [
        {
          "output_type": "execute_result",
          "data": {
            "text/plain": [
              "tensor([[ 1,  5,  8],\n",
              "        [ 4,  9,  7],\n",
              "        [ 5,  0, -1]])"
            ]
          },
          "metadata": {},
          "execution_count": 16
        }
      ]
    },
    {
      "cell_type": "code",
      "source": [
        "TENSOR[0, 0, 1]"
      ],
      "metadata": {
        "colab": {
          "base_uri": "https://localhost:8080/"
        },
        "id": "OcHRv6TjNn_z",
        "outputId": "e8a7073a-6167-4c38-a182-e2733144f795"
      },
      "execution_count": 17,
      "outputs": [
        {
          "output_type": "execute_result",
          "data": {
            "text/plain": [
              "tensor(5)"
            ]
          },
          "metadata": {},
          "execution_count": 17
        }
      ]
    },
    {
      "cell_type": "markdown",
      "source": [
        "### **Random Tensors**\n",
        "Random tensors are important because the way many neural networks learn is that they start with tensors full of random numbers and then adjust those random numbers to better represent the data."
      ],
      "metadata": {
        "id": "-HkpcOnr-24v"
      }
    },
    {
      "cell_type": "code",
      "source": [
        "# Create a random tensor of size (3, 4)\n",
        "random_tensor = torch.rand(3, 4)\n",
        "random_tensor"
      ],
      "metadata": {
        "colab": {
          "base_uri": "https://localhost:8080/"
        },
        "id": "VMbiFKMdAEaO",
        "outputId": "114c5892-d68b-49bf-b945-4e82ee951090"
      },
      "execution_count": 18,
      "outputs": [
        {
          "output_type": "execute_result",
          "data": {
            "text/plain": [
              "tensor([[0.3499, 0.7839, 0.4829, 0.6288],\n",
              "        [0.9111, 0.3553, 0.8132, 0.5282],\n",
              "        [0.5559, 0.9048, 0.2619, 0.0302]])"
            ]
          },
          "metadata": {},
          "execution_count": 18
        }
      ]
    },
    {
      "cell_type": "code",
      "source": [
        "random_tensor.ndim"
      ],
      "metadata": {
        "colab": {
          "base_uri": "https://localhost:8080/"
        },
        "id": "Q7Ag5no1AQLG",
        "outputId": "7c3c1cf5-ce89-47bf-c518-286613258936"
      },
      "execution_count": 19,
      "outputs": [
        {
          "output_type": "execute_result",
          "data": {
            "text/plain": [
              "2"
            ]
          },
          "metadata": {},
          "execution_count": 19
        }
      ]
    },
    {
      "cell_type": "code",
      "source": [
        "# Create a random tensor with similar shape to an image tensor\n",
        "random_image_size_tensor = torch.rand(size=(224, 224, 3)) # height, width, colour channels\n",
        "random_image_size_tensor.shape, random_image_size_tensor.ndim"
      ],
      "metadata": {
        "colab": {
          "base_uri": "https://localhost:8080/"
        },
        "id": "L3L9_t4oBHTO",
        "outputId": "582a77c6-dca8-4677-818c-7e284d7fc853"
      },
      "execution_count": 20,
      "outputs": [
        {
          "output_type": "execute_result",
          "data": {
            "text/plain": [
              "(torch.Size([224, 224, 3]), 3)"
            ]
          },
          "metadata": {},
          "execution_count": 20
        }
      ]
    },
    {
      "cell_type": "code",
      "source": [
        "random_image_size_tensor"
      ],
      "metadata": {
        "colab": {
          "base_uri": "https://localhost:8080/"
        },
        "id": "k4H93HaGCjVL",
        "outputId": "0ecba986-2c2e-4c58-8be5-086a0fd9e65e"
      },
      "execution_count": 21,
      "outputs": [
        {
          "output_type": "execute_result",
          "data": {
            "text/plain": [
              "tensor([[[0.9920, 0.6472, 0.7500],\n",
              "         [0.5560, 0.2826, 0.5563],\n",
              "         [0.7413, 0.8035, 0.3483],\n",
              "         ...,\n",
              "         [0.3558, 0.3004, 0.1023],\n",
              "         [0.1894, 0.3316, 0.9312],\n",
              "         [0.7360, 0.4892, 0.1272]],\n",
              "\n",
              "        [[0.0080, 0.1187, 0.3254],\n",
              "         [0.4203, 0.8695, 0.5637],\n",
              "         [0.2235, 0.3030, 0.9925],\n",
              "         ...,\n",
              "         [0.0977, 0.5179, 0.2798],\n",
              "         [0.4727, 0.6593, 0.5580],\n",
              "         [0.8384, 0.0853, 0.1445]],\n",
              "\n",
              "        [[0.5129, 0.4294, 0.1265],\n",
              "         [0.8248, 0.5065, 0.2690],\n",
              "         [0.7687, 0.5300, 0.3457],\n",
              "         ...,\n",
              "         [0.8147, 0.2723, 0.1863],\n",
              "         [0.9020, 0.0385, 0.1003],\n",
              "         [0.3434, 0.7461, 0.7155]],\n",
              "\n",
              "        ...,\n",
              "\n",
              "        [[0.2891, 0.9813, 0.8673],\n",
              "         [0.1566, 0.1111, 0.5563],\n",
              "         [0.9201, 0.5389, 0.1113],\n",
              "         ...,\n",
              "         [0.7999, 0.8623, 0.8936],\n",
              "         [0.1944, 0.2802, 0.1776],\n",
              "         [0.8720, 0.2738, 0.2911]],\n",
              "\n",
              "        [[0.3778, 0.8267, 0.7521],\n",
              "         [0.5531, 0.9155, 0.0213],\n",
              "         [0.7439, 0.0701, 0.8388],\n",
              "         ...,\n",
              "         [0.6872, 0.6587, 0.7242],\n",
              "         [0.0786, 0.0958, 0.8496],\n",
              "         [0.8590, 0.7798, 0.4033]],\n",
              "\n",
              "        [[0.8810, 0.9102, 0.1896],\n",
              "         [0.8712, 0.2280, 0.3797],\n",
              "         [0.2568, 0.7701, 0.8601],\n",
              "         ...,\n",
              "         [0.7443, 0.9199, 0.2896],\n",
              "         [0.3729, 0.3312, 0.3714],\n",
              "         [0.7114, 0.6521, 0.8228]]])"
            ]
          },
          "metadata": {},
          "execution_count": 21
        }
      ]
    },
    {
      "cell_type": "markdown",
      "source": [
        "### Zeros and ones"
      ],
      "metadata": {
        "id": "5PYK6ODjD1cl"
      }
    },
    {
      "cell_type": "code",
      "source": [
        "# Create a tensor of all zeors\n",
        "zeros = torch.zeros(size=(3, 4))\n",
        "zeros"
      ],
      "metadata": {
        "colab": {
          "base_uri": "https://localhost:8080/"
        },
        "id": "spFCGfRgEEA6",
        "outputId": "410081ae-5fbb-43ef-a608-2cec978d4a41"
      },
      "execution_count": 22,
      "outputs": [
        {
          "output_type": "execute_result",
          "data": {
            "text/plain": [
              "tensor([[0., 0., 0., 0.],\n",
              "        [0., 0., 0., 0.],\n",
              "        [0., 0., 0., 0.]])"
            ]
          },
          "metadata": {},
          "execution_count": 22
        }
      ]
    },
    {
      "cell_type": "code",
      "source": [
        "zeros*random_tensor"
      ],
      "metadata": {
        "colab": {
          "base_uri": "https://localhost:8080/"
        },
        "id": "UfSQMeWjENyE",
        "outputId": "a464bf6c-7f04-4215-d722-eccadac80c7d"
      },
      "execution_count": 23,
      "outputs": [
        {
          "output_type": "execute_result",
          "data": {
            "text/plain": [
              "tensor([[0., 0., 0., 0.],\n",
              "        [0., 0., 0., 0.],\n",
              "        [0., 0., 0., 0.]])"
            ]
          },
          "metadata": {},
          "execution_count": 23
        }
      ]
    },
    {
      "cell_type": "code",
      "source": [
        "# Create a trernsor of all ones\n",
        "ones = torch.ones(size=(3, 4))\n",
        "ones"
      ],
      "metadata": {
        "colab": {
          "base_uri": "https://localhost:8080/"
        },
        "id": "nORLgb_NEWWR",
        "outputId": "08df8c7d-738d-4edc-9930-5a5ba3af467d"
      },
      "execution_count": 24,
      "outputs": [
        {
          "output_type": "execute_result",
          "data": {
            "text/plain": [
              "tensor([[1., 1., 1., 1.],\n",
              "        [1., 1., 1., 1.],\n",
              "        [1., 1., 1., 1.]])"
            ]
          },
          "metadata": {},
          "execution_count": 24
        }
      ]
    },
    {
      "cell_type": "code",
      "source": [
        "ones.dtype"
      ],
      "metadata": {
        "colab": {
          "base_uri": "https://localhost:8080/"
        },
        "id": "KHK1NhvbEmUq",
        "outputId": "40f648eb-c016-489e-fb6c-0dd5f69f68aa"
      },
      "execution_count": 25,
      "outputs": [
        {
          "output_type": "execute_result",
          "data": {
            "text/plain": [
              "torch.float32"
            ]
          },
          "metadata": {},
          "execution_count": 25
        }
      ]
    },
    {
      "cell_type": "code",
      "source": [
        "random_tensor.dtype"
      ],
      "metadata": {
        "colab": {
          "base_uri": "https://localhost:8080/"
        },
        "id": "UfrxCxhaEoyJ",
        "outputId": "5b8c9a8a-6ebf-4695-d20c-58ad145af814"
      },
      "execution_count": 26,
      "outputs": [
        {
          "output_type": "execute_result",
          "data": {
            "text/plain": [
              "torch.float32"
            ]
          },
          "metadata": {},
          "execution_count": 26
        }
      ]
    },
    {
      "cell_type": "markdown",
      "source": [
        "###Creating a range of tensors and tensors-like"
      ],
      "metadata": {
        "id": "LV-KFnotFG7G"
      }
    },
    {
      "cell_type": "code",
      "source": [
        "# Use torch.arange() instead of torch.range()\n",
        "zero_to_thousand = torch.arange(start=0, end=1000, step=68)\n",
        "zero_to_thousand"
      ],
      "metadata": {
        "colab": {
          "base_uri": "https://localhost:8080/"
        },
        "id": "fxla-oKgFGq1",
        "outputId": "780b938f-789f-4d71-e88d-024f2e1401d3"
      },
      "execution_count": 27,
      "outputs": [
        {
          "output_type": "execute_result",
          "data": {
            "text/plain": [
              "tensor([  0,  68, 136, 204, 272, 340, 408, 476, 544, 612, 680, 748, 816, 884,\n",
              "        952])"
            ]
          },
          "metadata": {},
          "execution_count": 27
        }
      ]
    },
    {
      "cell_type": "code",
      "source": [
        "# Creating tensors like\n",
        "zeroes_like = torch.zeros_like(input=zero_to_thousand)\n",
        "zeroes_like"
      ],
      "metadata": {
        "colab": {
          "base_uri": "https://localhost:8080/"
        },
        "id": "0UlbzoAhFUVw",
        "outputId": "aeb128aa-a442-4f7f-c034-3687b6a00866"
      },
      "execution_count": 28,
      "outputs": [
        {
          "output_type": "execute_result",
          "data": {
            "text/plain": [
              "tensor([0, 0, 0, 0, 0, 0, 0, 0, 0, 0, 0, 0, 0, 0, 0])"
            ]
          },
          "metadata": {},
          "execution_count": 28
        }
      ]
    },
    {
      "cell_type": "markdown",
      "source": [
        "### Tensor Datatypes\n",
        "3-possible tensor errors\n",
        "\n",
        "1. Tensors not right datatype\n",
        "2. Tensors not right shape\n",
        "3. Tensors not on right device"
      ],
      "metadata": {
        "id": "S5QKpL9eHzz7"
      }
    },
    {
      "cell_type": "code",
      "source": [
        "# Float 32 tensor\n",
        "float_32_tensor = torch.tensor([3.0, 6.0, 8.0],\n",
        "                               dtype=None)\n",
        "print(float_32_tensor.dtype) # Default tensor datatype is float 32\n",
        "\n",
        "float_16_tensor = torch.tensor([5.0, 6.0, 4.3],\n",
        "                               dtype=torch.float16, # What datatype is the tensor (e.g. float32 -> single precision more digits, float16 -> half precision faster operations, complex32, )\n",
        "                               device=None, # What device is your tensor on, You cannot do an operation between two tensors that are on the different devices\n",
        "                               requires_grad=False) # Pytorch to track the gradient\n",
        "float_16_tensor.dtype"
      ],
      "metadata": {
        "colab": {
          "base_uri": "https://localhost:8080/"
        },
        "id": "BnUCVywAH5e2",
        "outputId": "0c2e2608-d4bb-4ffc-ec1f-e7eaf46b3597"
      },
      "execution_count": 35,
      "outputs": [
        {
          "output_type": "stream",
          "name": "stdout",
          "text": [
            "torch.float32\n"
          ]
        },
        {
          "output_type": "execute_result",
          "data": {
            "text/plain": [
              "torch.float16"
            ]
          },
          "metadata": {},
          "execution_count": 35
        }
      ]
    },
    {
      "cell_type": "code",
      "source": [
        "float_16_tensor = float_32_tensor.type(torch.float16)\n",
        "float_16_tensor"
      ],
      "metadata": {
        "colab": {
          "base_uri": "https://localhost:8080/"
        },
        "id": "OVOod0l1IKQZ",
        "outputId": "5ca33a38-618e-4ca1-9dd8-c4b45f0aa342"
      },
      "execution_count": 31,
      "outputs": [
        {
          "output_type": "execute_result",
          "data": {
            "text/plain": [
              "tensor([3., 6., 8.], dtype=torch.float16)"
            ]
          },
          "metadata": {},
          "execution_count": 31
        }
      ]
    },
    {
      "cell_type": "code",
      "source": [
        "float_16_tensor * float_32_tensor"
      ],
      "metadata": {
        "colab": {
          "base_uri": "https://localhost:8080/"
        },
        "id": "JHZOMg5jK5_v",
        "outputId": "932afb30-f13d-48a9-eca1-ad630b08257e"
      },
      "execution_count": 32,
      "outputs": [
        {
          "output_type": "execute_result",
          "data": {
            "text/plain": [
              "tensor([ 9., 36., 64.])"
            ]
          },
          "metadata": {},
          "execution_count": 32
        }
      ]
    },
    {
      "cell_type": "code",
      "source": [
        "int_32_tensor = torch.tensor([3, 7, 8],\n",
        "                             dtype=torch.int32)\n",
        "int_32_tensor"
      ],
      "metadata": {
        "id": "S362rKRSLVv4",
        "colab": {
          "base_uri": "https://localhost:8080/"
        },
        "outputId": "ad319e1a-d79c-462d-e8ef-f86be46ba22e"
      },
      "execution_count": 36,
      "outputs": [
        {
          "output_type": "execute_result",
          "data": {
            "text/plain": [
              "tensor([3, 7, 8], dtype=torch.int32)"
            ]
          },
          "metadata": {},
          "execution_count": 36
        }
      ]
    },
    {
      "cell_type": "code",
      "source": [
        "float_32_tensor * int_32_tensor"
      ],
      "metadata": {
        "colab": {
          "base_uri": "https://localhost:8080/"
        },
        "id": "-mx6VCkW7ms8",
        "outputId": "9b43e698-ee46-4b87-ebeb-2ecac0073819"
      },
      "execution_count": 37,
      "outputs": [
        {
          "output_type": "execute_result",
          "data": {
            "text/plain": [
              "tensor([ 9., 42., 64.])"
            ]
          },
          "metadata": {},
          "execution_count": 37
        }
      ]
    },
    {
      "cell_type": "markdown",
      "source": [
        "### Getting Information From Tensors (tensor attributes)\n",
        "\n",
        "*   Liste öğesi\n",
        "\n",
        "*   Liste öğesi\n",
        "*   Liste öğesi\n",
        "\n",
        "\n",
        "*   Liste öğesi\n",
        "\n"
      ],
      "metadata": {
        "id": "22odLTrt8Bag"
      }
    },
    {
      "cell_type": "markdown",
      "source": [
        "To get datatype: tensor.dtype\n",
        "\n",
        "To get shpe from tensor: tensor.hape\n",
        "\n",
        "To get device from tensor: tensor.device"
      ],
      "metadata": {
        "id": "nWZs26P682uz"
      }
    },
    {
      "cell_type": "code",
      "source": [
        "# Create a tensor\n",
        "some_tensor = torch.rand(3, 4)\n",
        "some_tensor"
      ],
      "metadata": {
        "colab": {
          "base_uri": "https://localhost:8080/"
        },
        "id": "k_6Jlhd79Qoy",
        "outputId": "7c51afdc-51eb-465c-98fc-b99e8ccb00b2"
      },
      "execution_count": 38,
      "outputs": [
        {
          "output_type": "execute_result",
          "data": {
            "text/plain": [
              "tensor([[0.2490, 0.7241, 0.1501, 0.7989],\n",
              "        [0.8104, 0.9381, 0.5702, 0.0604],\n",
              "        [0.8278, 0.9499, 0.6204, 0.1091]])"
            ]
          },
          "metadata": {},
          "execution_count": 38
        }
      ]
    },
    {
      "cell_type": "code",
      "source": [
        "print(some_tensor)\n",
        "print(f\"Datatype of tensor: {some_tensor.dtype}\")\n",
        "print(f\"Shape of tensor: {some_tensor.shape}\")\n",
        "print(f\"Device of tensor: {some_tensor.device}\")"
      ],
      "metadata": {
        "colab": {
          "base_uri": "https://localhost:8080/"
        },
        "id": "zTWAe2rz9cRL",
        "outputId": "966a9143-9eff-411e-e45c-339f68de26c3"
      },
      "execution_count": 39,
      "outputs": [
        {
          "output_type": "stream",
          "name": "stdout",
          "text": [
            "tensor([[0.2490, 0.7241, 0.1501, 0.7989],\n",
            "        [0.8104, 0.9381, 0.5702, 0.0604],\n",
            "        [0.8278, 0.9499, 0.6204, 0.1091]])\n",
            "Datatype of tensor: torch.float32\n",
            "Shape of tensor: torch.Size([3, 4])\n",
            "Device of tensor: cpu\n"
          ]
        }
      ]
    },
    {
      "cell_type": "code",
      "source": [],
      "metadata": {
        "id": "XFZno0Xe97EL"
      },
      "execution_count": null,
      "outputs": []
    }
  ]
}