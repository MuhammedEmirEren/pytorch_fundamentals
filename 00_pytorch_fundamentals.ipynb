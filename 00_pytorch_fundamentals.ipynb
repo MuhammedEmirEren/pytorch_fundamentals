{
  "nbformat": 4,
  "nbformat_minor": 0,
  "metadata": {
    "colab": {
      "provenance": [],
      "authorship_tag": "ABX9TyNTVwr7yrKbcrB4Yl7YI7qd",
      "include_colab_link": true
    },
    "kernelspec": {
      "name": "python3",
      "display_name": "Python 3"
    },
    "language_info": {
      "name": "python"
    }
  },
  "cells": [
    {
      "cell_type": "markdown",
      "metadata": {
        "id": "view-in-github",
        "colab_type": "text"
      },
      "source": [
        "<a href=\"https://colab.research.google.com/github/MuhammedEmirEren/pytorch_fundamentals/blob/main/00_pytorch_fundamentals.ipynb\" target=\"_parent\"><img src=\"https://colab.research.google.com/assets/colab-badge.svg\" alt=\"Open In Colab\"/></a>"
      ]
    },
    {
      "cell_type": "markdown",
      "source": [
        "## 00. Pytorch Fundamentals"
      ],
      "metadata": {
        "id": "titmf4WjCNhn"
      }
    },
    {
      "cell_type": "code",
      "source": [
        "import torch\n",
        "import pandas as pd\n",
        "import matplotlib.pyplot as plt\n",
        "import numpy as np\n",
        "print(torch.__version__)"
      ],
      "metadata": {
        "colab": {
          "base_uri": "https://localhost:8080/"
        },
        "id": "hYY-BHiDDWqf",
        "outputId": "a1018535-6096-4641-dd46-4517fd961cde"
      },
      "execution_count": 1,
      "outputs": [
        {
          "output_type": "stream",
          "name": "stdout",
          "text": [
            "2.3.0+cu121\n"
          ]
        }
      ]
    },
    {
      "cell_type": "markdown",
      "source": [
        "# Tensors\n",
        "Creating Tensors\n",
        "\n",
        "pytorch tensors are created using torcch.tensor()\n",
        "-->>> https://pytorch.org/docs/stable/tensors.html#initializing-and-basic-operations\n",
        "\n",
        ".ndim is to get number of dimensions of tensor"
      ],
      "metadata": {
        "id": "XiilpnvpHO6c"
      }
    },
    {
      "cell_type": "code",
      "source": [
        "# scalar\n",
        "scalar = torch.tensor(7)\n",
        "scalar"
      ],
      "metadata": {
        "colab": {
          "base_uri": "https://localhost:8080/"
        },
        "id": "DgdPYGtjHOJ8",
        "outputId": "dce3f71f-7a71-4271-9a3f-682a3e196864"
      },
      "execution_count": 2,
      "outputs": [
        {
          "output_type": "execute_result",
          "data": {
            "text/plain": [
              "tensor(7)"
            ]
          },
          "metadata": {},
          "execution_count": 2
        }
      ]
    },
    {
      "cell_type": "code",
      "source": [
        "scalar.ndim"
      ],
      "metadata": {
        "colab": {
          "base_uri": "https://localhost:8080/"
        },
        "id": "0-E7BaTsJq3w",
        "outputId": "5b006ce9-e364-4466-fc55-b4cd6b0f26c0"
      },
      "execution_count": 3,
      "outputs": [
        {
          "output_type": "execute_result",
          "data": {
            "text/plain": [
              "0"
            ]
          },
          "metadata": {},
          "execution_count": 3
        }
      ]
    },
    {
      "cell_type": "code",
      "source": [
        "# Get scalar back as Python integer\n",
        "scalar.item()"
      ],
      "metadata": {
        "colab": {
          "base_uri": "https://localhost:8080/"
        },
        "id": "jAWv2n4XKV40",
        "outputId": "4d624e51-79b3-4931-d218-d1c3702ca4e1"
      },
      "execution_count": 4,
      "outputs": [
        {
          "output_type": "execute_result",
          "data": {
            "text/plain": [
              "7"
            ]
          },
          "metadata": {},
          "execution_count": 4
        }
      ]
    },
    {
      "cell_type": "code",
      "source": [
        "# Vector\n",
        "vector = torch.tensor([7, 7])\n",
        "vector.ndim\n",
        "# Number of dimensions are acctually number of embedded square brackets\n",
        "# like two dimensional arrays in java\n"
      ],
      "metadata": {
        "colab": {
          "base_uri": "https://localhost:8080/"
        },
        "id": "pluHm_9OKdwT",
        "outputId": "7f24bb8c-4862-4302-b055-db70ac0c78cc"
      },
      "execution_count": 5,
      "outputs": [
        {
          "output_type": "execute_result",
          "data": {
            "text/plain": [
              "1"
            ]
          },
          "metadata": {},
          "execution_count": 5
        }
      ]
    },
    {
      "cell_type": "code",
      "source": [
        "vector.shape\n",
        "# .shape is giving the dimensions in the coordinate system"
      ],
      "metadata": {
        "colab": {
          "base_uri": "https://localhost:8080/"
        },
        "id": "_4CGC2zyKqPS",
        "outputId": "619efb08-7264-4f11-b4cd-4c227065ec28"
      },
      "execution_count": 6,
      "outputs": [
        {
          "output_type": "execute_result",
          "data": {
            "text/plain": [
              "torch.Size([2])"
            ]
          },
          "metadata": {},
          "execution_count": 6
        }
      ]
    },
    {
      "cell_type": "code",
      "source": [
        "# Matrix\n",
        "MATRIX = torch.tensor([[3, 5],\n",
        "                       [8, 7]])\n",
        "MATRIX"
      ],
      "metadata": {
        "colab": {
          "base_uri": "https://localhost:8080/"
        },
        "id": "pjblWFxELYcb",
        "outputId": "e7f28048-046d-4875-c183-f4967d5ff51d"
      },
      "execution_count": 7,
      "outputs": [
        {
          "output_type": "execute_result",
          "data": {
            "text/plain": [
              "tensor([[3, 5],\n",
              "        [8, 7]])"
            ]
          },
          "metadata": {},
          "execution_count": 7
        }
      ]
    },
    {
      "cell_type": "code",
      "source": [
        "MATRIX.ndim"
      ],
      "metadata": {
        "colab": {
          "base_uri": "https://localhost:8080/"
        },
        "id": "f8HaNJTvMX9L",
        "outputId": "1cd3719a-1696-476c-a74e-992797bce111"
      },
      "execution_count": 8,
      "outputs": [
        {
          "output_type": "execute_result",
          "data": {
            "text/plain": [
              "2"
            ]
          },
          "metadata": {},
          "execution_count": 8
        }
      ]
    },
    {
      "cell_type": "code",
      "source": [
        "MATRIX.shape"
      ],
      "metadata": {
        "colab": {
          "base_uri": "https://localhost:8080/"
        },
        "id": "0xj-g9n8Mbd9",
        "outputId": "72f2c59e-2eed-4cd4-8625-4fa7c117f1a5"
      },
      "execution_count": 9,
      "outputs": [
        {
          "output_type": "execute_result",
          "data": {
            "text/plain": [
              "torch.Size([2, 2])"
            ]
          },
          "metadata": {},
          "execution_count": 9
        }
      ]
    },
    {
      "cell_type": "code",
      "source": [
        "MATRIX[0]"
      ],
      "metadata": {
        "colab": {
          "base_uri": "https://localhost:8080/"
        },
        "id": "Px1bR-nTMd-O",
        "outputId": "2b1fc7cf-acb8-408e-b14c-107f67d92747"
      },
      "execution_count": 10,
      "outputs": [
        {
          "output_type": "execute_result",
          "data": {
            "text/plain": [
              "tensor([3, 5])"
            ]
          },
          "metadata": {},
          "execution_count": 10
        }
      ]
    },
    {
      "cell_type": "code",
      "source": [
        "MATRIX[0][1]"
      ],
      "metadata": {
        "colab": {
          "base_uri": "https://localhost:8080/"
        },
        "id": "rdDq3xoMMpVL",
        "outputId": "172ba40d-fcc1-427d-e083-79e54f7e9692"
      },
      "execution_count": 11,
      "outputs": [
        {
          "output_type": "execute_result",
          "data": {
            "text/plain": [
              "tensor(5)"
            ]
          },
          "metadata": {},
          "execution_count": 11
        }
      ]
    },
    {
      "cell_type": "code",
      "source": [
        "# TENSOR\n",
        "TENSOR = torch.tensor([[[1, 5, 8],\n",
        "                        [4, 9, 7],\n",
        "                        [5, 0, -1]]])\n",
        "TENSOR"
      ],
      "metadata": {
        "colab": {
          "base_uri": "https://localhost:8080/"
        },
        "id": "smCtnYO1MuRv",
        "outputId": "32b9ca7c-8685-40a6-a8ca-b0f1b5c8d3a0"
      },
      "execution_count": 12,
      "outputs": [
        {
          "output_type": "execute_result",
          "data": {
            "text/plain": [
              "tensor([[[ 1,  5,  8],\n",
              "         [ 4,  9,  7],\n",
              "         [ 5,  0, -1]]])"
            ]
          },
          "metadata": {},
          "execution_count": 12
        }
      ]
    },
    {
      "cell_type": "code",
      "source": [
        "TENSOR.shape"
      ],
      "metadata": {
        "colab": {
          "base_uri": "https://localhost:8080/"
        },
        "id": "hHIW25f8NNcW",
        "outputId": "c517ab7c-2012-461f-aac6-95de279856ea"
      },
      "execution_count": 13,
      "outputs": [
        {
          "output_type": "execute_result",
          "data": {
            "text/plain": [
              "torch.Size([1, 3, 3])"
            ]
          },
          "metadata": {},
          "execution_count": 13
        }
      ]
    },
    {
      "cell_type": "code",
      "source": [
        "TENSOR.ndim"
      ],
      "metadata": {
        "colab": {
          "base_uri": "https://localhost:8080/"
        },
        "id": "3iqVKxe6NQ42",
        "outputId": "b48031f4-2654-44ef-da2c-73a5f7dda49a"
      },
      "execution_count": 14,
      "outputs": [
        {
          "output_type": "execute_result",
          "data": {
            "text/plain": [
              "3"
            ]
          },
          "metadata": {},
          "execution_count": 14
        }
      ]
    },
    {
      "cell_type": "code",
      "source": [
        " TENSOR[0]"
      ],
      "metadata": {
        "colab": {
          "base_uri": "https://localhost:8080/"
        },
        "id": "4i9S18FzNcwz",
        "outputId": "df464ad4-9f67-430a-a093-04d7518f8b98"
      },
      "execution_count": 15,
      "outputs": [
        {
          "output_type": "execute_result",
          "data": {
            "text/plain": [
              "tensor([[ 1,  5,  8],\n",
              "        [ 4,  9,  7],\n",
              "        [ 5,  0, -1]])"
            ]
          },
          "metadata": {},
          "execution_count": 15
        }
      ]
    },
    {
      "cell_type": "code",
      "source": [
        "TENSOR[0, 0, 1]"
      ],
      "metadata": {
        "colab": {
          "base_uri": "https://localhost:8080/"
        },
        "id": "OcHRv6TjNn_z",
        "outputId": "d5c33d08-f9ec-45eb-cbbc-db7db77733b0"
      },
      "execution_count": 16,
      "outputs": [
        {
          "output_type": "execute_result",
          "data": {
            "text/plain": [
              "tensor(5)"
            ]
          },
          "metadata": {},
          "execution_count": 16
        }
      ]
    },
    {
      "cell_type": "markdown",
      "source": [
        "### **Random Tensors**\n",
        "Random tensors are important because the way many neural networks learn is that they start with tensors full of random numbers and then adjust those random numbers to better represent the data."
      ],
      "metadata": {
        "id": "-HkpcOnr-24v"
      }
    },
    {
      "cell_type": "code",
      "source": [
        "# Create a random tensor of size (3, 4)\n",
        "random_tensor = torch.rand(3, 4)\n",
        "random_tensor"
      ],
      "metadata": {
        "colab": {
          "base_uri": "https://localhost:8080/"
        },
        "id": "VMbiFKMdAEaO",
        "outputId": "1f8ad787-f0a2-467b-c72f-f65883faeb00"
      },
      "execution_count": 17,
      "outputs": [
        {
          "output_type": "execute_result",
          "data": {
            "text/plain": [
              "tensor([[0.7045, 0.0796, 0.5161, 0.6063],\n",
              "        [0.6088, 0.1333, 0.6244, 0.2101],\n",
              "        [0.5122, 0.8762, 0.1891, 0.6964]])"
            ]
          },
          "metadata": {},
          "execution_count": 17
        }
      ]
    },
    {
      "cell_type": "code",
      "source": [
        "random_tensor.ndim"
      ],
      "metadata": {
        "colab": {
          "base_uri": "https://localhost:8080/"
        },
        "id": "Q7Ag5no1AQLG",
        "outputId": "f79be455-e196-41a4-ee01-4621937ec739"
      },
      "execution_count": 18,
      "outputs": [
        {
          "output_type": "execute_result",
          "data": {
            "text/plain": [
              "2"
            ]
          },
          "metadata": {},
          "execution_count": 18
        }
      ]
    },
    {
      "cell_type": "code",
      "source": [
        "# Create a random tensor with similar shape to an image tensor\n",
        "random_image_size_tensor = torch.rand(size=(224, 224, 3)) # height, width, colour channels\n",
        "random_image_size_tensor.shape, random_image_size_tensor.ndim"
      ],
      "metadata": {
        "colab": {
          "base_uri": "https://localhost:8080/"
        },
        "id": "L3L9_t4oBHTO",
        "outputId": "ae7bd0ef-efeb-4c3d-948e-ac22ee521b12"
      },
      "execution_count": 19,
      "outputs": [
        {
          "output_type": "execute_result",
          "data": {
            "text/plain": [
              "(torch.Size([224, 224, 3]), 3)"
            ]
          },
          "metadata": {},
          "execution_count": 19
        }
      ]
    },
    {
      "cell_type": "code",
      "source": [
        "random_image_size_tensor"
      ],
      "metadata": {
        "colab": {
          "base_uri": "https://localhost:8080/"
        },
        "id": "k4H93HaGCjVL",
        "outputId": "13a38c14-e5a5-43f7-b85f-1ed2a8feb808"
      },
      "execution_count": 20,
      "outputs": [
        {
          "output_type": "execute_result",
          "data": {
            "text/plain": [
              "tensor([[[0.8492, 0.6510, 0.8078],\n",
              "         [0.3452, 0.6692, 0.0689],\n",
              "         [0.0467, 0.2430, 0.9472],\n",
              "         ...,\n",
              "         [0.5328, 0.5761, 0.1819],\n",
              "         [0.2419, 0.6906, 0.7105],\n",
              "         [0.2540, 0.6385, 0.3465]],\n",
              "\n",
              "        [[0.2159, 0.1333, 0.0740],\n",
              "         [0.4560, 0.0733, 0.3131],\n",
              "         [0.5541, 0.3835, 0.0799],\n",
              "         ...,\n",
              "         [0.7333, 0.4953, 0.6755],\n",
              "         [0.3795, 0.9594, 0.0577],\n",
              "         [0.0276, 0.6536, 0.2911]],\n",
              "\n",
              "        [[0.8283, 0.2925, 0.8824],\n",
              "         [0.1249, 0.2705, 0.4732],\n",
              "         [0.0064, 0.8226, 0.9913],\n",
              "         ...,\n",
              "         [0.4317, 0.6852, 0.4254],\n",
              "         [0.9490, 0.4504, 0.7608],\n",
              "         [0.1287, 0.3397, 0.4326]],\n",
              "\n",
              "        ...,\n",
              "\n",
              "        [[0.7728, 0.9337, 0.0515],\n",
              "         [0.3266, 0.0945, 0.5755],\n",
              "         [0.1767, 0.2923, 0.8025],\n",
              "         ...,\n",
              "         [0.3616, 0.2684, 0.3669],\n",
              "         [0.0623, 0.7608, 0.6099],\n",
              "         [0.8157, 0.8215, 0.2785]],\n",
              "\n",
              "        [[0.9826, 0.8703, 0.2690],\n",
              "         [0.1593, 0.1694, 0.8369],\n",
              "         [0.8391, 0.3314, 0.5848],\n",
              "         ...,\n",
              "         [0.1796, 0.0412, 0.8194],\n",
              "         [0.6753, 0.7471, 0.0908],\n",
              "         [0.4899, 0.8634, 0.7944]],\n",
              "\n",
              "        [[0.2971, 0.6107, 0.5160],\n",
              "         [0.4362, 0.6150, 0.9136],\n",
              "         [0.3099, 0.4775, 0.3804],\n",
              "         ...,\n",
              "         [0.3898, 0.2905, 0.7664],\n",
              "         [0.4905, 0.5980, 0.7298],\n",
              "         [0.1500, 0.7341, 0.7685]]])"
            ]
          },
          "metadata": {},
          "execution_count": 20
        }
      ]
    },
    {
      "cell_type": "markdown",
      "source": [
        "### Zeros and ones"
      ],
      "metadata": {
        "id": "5PYK6ODjD1cl"
      }
    },
    {
      "cell_type": "code",
      "source": [
        "# Create a tensor of all zeors\n",
        "zeros = torch.zeros(size=(3, 4))\n",
        "zeros"
      ],
      "metadata": {
        "colab": {
          "base_uri": "https://localhost:8080/"
        },
        "id": "spFCGfRgEEA6",
        "outputId": "ab4c3f52-4223-45e6-f8db-36de46665148"
      },
      "execution_count": 21,
      "outputs": [
        {
          "output_type": "execute_result",
          "data": {
            "text/plain": [
              "tensor([[0., 0., 0., 0.],\n",
              "        [0., 0., 0., 0.],\n",
              "        [0., 0., 0., 0.]])"
            ]
          },
          "metadata": {},
          "execution_count": 21
        }
      ]
    },
    {
      "cell_type": "code",
      "source": [
        "zeros*random_tensor"
      ],
      "metadata": {
        "colab": {
          "base_uri": "https://localhost:8080/"
        },
        "id": "UfSQMeWjENyE",
        "outputId": "a8e01f1c-ac1f-4986-b3c9-5eb1977f2f2f"
      },
      "execution_count": 22,
      "outputs": [
        {
          "output_type": "execute_result",
          "data": {
            "text/plain": [
              "tensor([[0., 0., 0., 0.],\n",
              "        [0., 0., 0., 0.],\n",
              "        [0., 0., 0., 0.]])"
            ]
          },
          "metadata": {},
          "execution_count": 22
        }
      ]
    },
    {
      "cell_type": "code",
      "source": [
        "# Create a trernsor of all ones\n",
        "ones = torch.ones(size=(3, 4))\n",
        "ones"
      ],
      "metadata": {
        "colab": {
          "base_uri": "https://localhost:8080/"
        },
        "id": "nORLgb_NEWWR",
        "outputId": "fafe75f4-81f3-4ce7-e9bc-bdfdf9864512"
      },
      "execution_count": 23,
      "outputs": [
        {
          "output_type": "execute_result",
          "data": {
            "text/plain": [
              "tensor([[1., 1., 1., 1.],\n",
              "        [1., 1., 1., 1.],\n",
              "        [1., 1., 1., 1.]])"
            ]
          },
          "metadata": {},
          "execution_count": 23
        }
      ]
    },
    {
      "cell_type": "code",
      "source": [
        "ones.dtype"
      ],
      "metadata": {
        "colab": {
          "base_uri": "https://localhost:8080/"
        },
        "id": "KHK1NhvbEmUq",
        "outputId": "b3cfdc6c-ff07-4ba9-cf4d-ac5c5a8045b9"
      },
      "execution_count": 24,
      "outputs": [
        {
          "output_type": "execute_result",
          "data": {
            "text/plain": [
              "torch.float32"
            ]
          },
          "metadata": {},
          "execution_count": 24
        }
      ]
    },
    {
      "cell_type": "code",
      "source": [
        "random_tensor.dtype"
      ],
      "metadata": {
        "colab": {
          "base_uri": "https://localhost:8080/"
        },
        "id": "UfrxCxhaEoyJ",
        "outputId": "d6e8e03a-5dbb-4608-b894-6de522ca7d95"
      },
      "execution_count": 25,
      "outputs": [
        {
          "output_type": "execute_result",
          "data": {
            "text/plain": [
              "torch.float32"
            ]
          },
          "metadata": {},
          "execution_count": 25
        }
      ]
    },
    {
      "cell_type": "markdown",
      "source": [
        "###Creating a range of tensors and tensors-like"
      ],
      "metadata": {
        "id": "LV-KFnotFG7G"
      }
    },
    {
      "cell_type": "code",
      "source": [
        "# Use torch.arange() instead of torch.range()\n",
        "zero_to_thousand = torch.arange(start=0, end=1000, step=68)\n",
        "zero_to_thousand"
      ],
      "metadata": {
        "colab": {
          "base_uri": "https://localhost:8080/"
        },
        "id": "fxla-oKgFGq1",
        "outputId": "dc69e8c3-912a-41ee-9fc5-f287ee2e975f"
      },
      "execution_count": 26,
      "outputs": [
        {
          "output_type": "execute_result",
          "data": {
            "text/plain": [
              "tensor([  0,  68, 136, 204, 272, 340, 408, 476, 544, 612, 680, 748, 816, 884,\n",
              "        952])"
            ]
          },
          "metadata": {},
          "execution_count": 26
        }
      ]
    },
    {
      "cell_type": "code",
      "source": [
        "# Creating tensors like\n",
        "zeroes_like = torch.zeros_like(input=zero_to_thousand)\n",
        "zeroes_like"
      ],
      "metadata": {
        "colab": {
          "base_uri": "https://localhost:8080/"
        },
        "id": "0UlbzoAhFUVw",
        "outputId": "eff8a6f1-b410-4950-ca8b-a41ae425e932"
      },
      "execution_count": 27,
      "outputs": [
        {
          "output_type": "execute_result",
          "data": {
            "text/plain": [
              "tensor([0, 0, 0, 0, 0, 0, 0, 0, 0, 0, 0, 0, 0, 0, 0])"
            ]
          },
          "metadata": {},
          "execution_count": 27
        }
      ]
    },
    {
      "cell_type": "markdown",
      "source": [
        "### Tensor Datatypes\n",
        "3-possible tensor errors\n",
        "\n",
        "1. Tensors not right datatype\n",
        "2. Tensors not right shape\n",
        "3. Tensors not on right device"
      ],
      "metadata": {
        "id": "S5QKpL9eHzz7"
      }
    },
    {
      "cell_type": "code",
      "source": [
        "# Float 32 tensor\n",
        "float_32_tensor = torch.tensor([3.0, 6.0, 8.0],\n",
        "                               dtype=None)\n",
        "print(float_32_tensor.dtype) # Default tensor datatype is float 32\n",
        "\n",
        "float_16_tensor = torch.tensor([5.0, 6.0, 4.3],\n",
        "                               dtype=torch.float16, # What datatype is the tensor (e.g. float32 -> single precision more digits, float16 -> half precision faster operations, complex32, )\n",
        "                               device=None, # What device is your tensor on, You cannot do an operation between two tensors that are on the different devices\n",
        "                               requires_grad=False) # Pytorch to track the gradient\n",
        "float_16_tensor.dtype"
      ],
      "metadata": {
        "colab": {
          "base_uri": "https://localhost:8080/"
        },
        "id": "BnUCVywAH5e2",
        "outputId": "530aa3b4-9b42-4997-e979-8bdecc13941c"
      },
      "execution_count": 28,
      "outputs": [
        {
          "output_type": "stream",
          "name": "stdout",
          "text": [
            "torch.float32\n"
          ]
        },
        {
          "output_type": "execute_result",
          "data": {
            "text/plain": [
              "torch.float16"
            ]
          },
          "metadata": {},
          "execution_count": 28
        }
      ]
    },
    {
      "cell_type": "code",
      "source": [
        "float_16_tensor = float_32_tensor.type(torch.float16)\n",
        "float_16_tensor"
      ],
      "metadata": {
        "colab": {
          "base_uri": "https://localhost:8080/"
        },
        "id": "OVOod0l1IKQZ",
        "outputId": "2d1eb2c9-b399-4e13-da00-8b08473c3db0"
      },
      "execution_count": 29,
      "outputs": [
        {
          "output_type": "execute_result",
          "data": {
            "text/plain": [
              "tensor([3., 6., 8.], dtype=torch.float16)"
            ]
          },
          "metadata": {},
          "execution_count": 29
        }
      ]
    },
    {
      "cell_type": "code",
      "source": [
        "float_16_tensor * float_32_tensor"
      ],
      "metadata": {
        "colab": {
          "base_uri": "https://localhost:8080/"
        },
        "id": "JHZOMg5jK5_v",
        "outputId": "4c3c6a40-8e6f-4489-d3fc-9ef51c6491a9"
      },
      "execution_count": 30,
      "outputs": [
        {
          "output_type": "execute_result",
          "data": {
            "text/plain": [
              "tensor([ 9., 36., 64.])"
            ]
          },
          "metadata": {},
          "execution_count": 30
        }
      ]
    },
    {
      "cell_type": "code",
      "source": [
        "int_32_tensor = torch.tensor([3, 7, 8],\n",
        "                             dtype=torch.int32)\n",
        "int_32_tensor"
      ],
      "metadata": {
        "id": "S362rKRSLVv4",
        "colab": {
          "base_uri": "https://localhost:8080/"
        },
        "outputId": "3b209f88-118e-4413-c7cb-0a4fddcf5968"
      },
      "execution_count": 31,
      "outputs": [
        {
          "output_type": "execute_result",
          "data": {
            "text/plain": [
              "tensor([3, 7, 8], dtype=torch.int32)"
            ]
          },
          "metadata": {},
          "execution_count": 31
        }
      ]
    },
    {
      "cell_type": "code",
      "source": [
        "float_32_tensor * int_32_tensor"
      ],
      "metadata": {
        "colab": {
          "base_uri": "https://localhost:8080/"
        },
        "id": "-mx6VCkW7ms8",
        "outputId": "c182e742-024f-4c3a-cc56-4a0d0a4d9228"
      },
      "execution_count": 32,
      "outputs": [
        {
          "output_type": "execute_result",
          "data": {
            "text/plain": [
              "tensor([ 9., 42., 64.])"
            ]
          },
          "metadata": {},
          "execution_count": 32
        }
      ]
    },
    {
      "cell_type": "markdown",
      "source": [
        "### Getting Information From Tensors (tensor attributes)\n",
        "\n",
        "\n"
      ],
      "metadata": {
        "id": "22odLTrt8Bag"
      }
    },
    {
      "cell_type": "markdown",
      "source": [
        "To get datatype: tensor.dtype\n",
        "\n",
        "To get shpe from tensor: tensor.hape\n",
        "\n",
        "To get device from tensor: tensor.device"
      ],
      "metadata": {
        "id": "nWZs26P682uz"
      }
    },
    {
      "cell_type": "code",
      "source": [
        "# Create a tensor\n",
        "some_tensor = torch.rand(3, 4)\n",
        "some_tensor"
      ],
      "metadata": {
        "colab": {
          "base_uri": "https://localhost:8080/"
        },
        "id": "k_6Jlhd79Qoy",
        "outputId": "372a9743-9c7b-4acd-a42a-cde739a97b33"
      },
      "execution_count": 33,
      "outputs": [
        {
          "output_type": "execute_result",
          "data": {
            "text/plain": [
              "tensor([[0.5630, 0.1663, 0.6131, 0.7588],\n",
              "        [0.4453, 0.2297, 0.4198, 0.9838],\n",
              "        [0.1983, 0.0137, 0.6243, 0.2266]])"
            ]
          },
          "metadata": {},
          "execution_count": 33
        }
      ]
    },
    {
      "cell_type": "code",
      "source": [
        "print(some_tensor)\n",
        "print(f\"Datatype of tensor: {some_tensor.dtype}\")\n",
        "print(f\"Shape of tensor: {some_tensor.shape}\")\n",
        "print(f\"Device of tensor: {some_tensor.device}\")"
      ],
      "metadata": {
        "colab": {
          "base_uri": "https://localhost:8080/"
        },
        "id": "zTWAe2rz9cRL",
        "outputId": "46efa197-4bb1-4948-91da-d3b0dbd318c0"
      },
      "execution_count": 34,
      "outputs": [
        {
          "output_type": "stream",
          "name": "stdout",
          "text": [
            "tensor([[0.5630, 0.1663, 0.6131, 0.7588],\n",
            "        [0.4453, 0.2297, 0.4198, 0.9838],\n",
            "        [0.1983, 0.0137, 0.6243, 0.2266]])\n",
            "Datatype of tensor: torch.float32\n",
            "Shape of tensor: torch.Size([3, 4])\n",
            "Device of tensor: cpu\n"
          ]
        }
      ]
    },
    {
      "cell_type": "markdown",
      "source": [
        "  ### Tensor Operations\n",
        "\n",
        "  Tensor operations include:\n",
        "  - Addition\n",
        "  - Subtractinn\n",
        "  - Multiplication (element-wise)\n",
        "  - Division\n",
        "  - Matrix multiplication"
      ],
      "metadata": {
        "id": "XFZno0Xe97EL"
      }
    },
    {
      "cell_type": "code",
      "source": [
        "# Create a tensor\n",
        "tensor = torch.tensor([1, 4, 6])\n",
        "# Addition\n",
        "tensor = tensor + 10\n",
        "tensor"
      ],
      "metadata": {
        "colab": {
          "base_uri": "https://localhost:8080/"
        },
        "id": "-8uQ25PbA3t5",
        "outputId": "9159bf22-e2ab-4360-b3a2-688064f01a02"
      },
      "execution_count": 35,
      "outputs": [
        {
          "output_type": "execute_result",
          "data": {
            "text/plain": [
              "tensor([11, 14, 16])"
            ]
          },
          "metadata": {},
          "execution_count": 35
        }
      ]
    },
    {
      "cell_type": "code",
      "source": [
        "# Multiplication\n",
        "tensor = tensor * 10\n",
        "tensor"
      ],
      "metadata": {
        "colab": {
          "base_uri": "https://localhost:8080/"
        },
        "id": "2E6rLNYLCBUf",
        "outputId": "ed33180b-c693-464b-e240-d36523a91789"
      },
      "execution_count": 36,
      "outputs": [
        {
          "output_type": "execute_result",
          "data": {
            "text/plain": [
              "tensor([110, 140, 160])"
            ]
          },
          "metadata": {},
          "execution_count": 36
        }
      ]
    },
    {
      "cell_type": "code",
      "source": [
        "# Subtraction\n",
        "tensor = tensor - 10\n",
        "tensor"
      ],
      "metadata": {
        "colab": {
          "base_uri": "https://localhost:8080/"
        },
        "id": "wHnwm3PrCL_2",
        "outputId": "2daeefe7-ce58-4497-db03-4179343ecf39"
      },
      "execution_count": 37,
      "outputs": [
        {
          "output_type": "execute_result",
          "data": {
            "text/plain": [
              "tensor([100, 130, 150])"
            ]
          },
          "metadata": {},
          "execution_count": 37
        }
      ]
    },
    {
      "cell_type": "code",
      "source": [
        "# Try out pytorch in built functions\n",
        "torch.mul(tensor, 10)\n",
        "torch.add(tensor, 10)"
      ],
      "metadata": {
        "colab": {
          "base_uri": "https://localhost:8080/"
        },
        "id": "gL17Yp6ECOa2",
        "outputId": "4b9e2478-1cc1-4afc-e60e-895665cda84a"
      },
      "execution_count": 38,
      "outputs": [
        {
          "output_type": "execute_result",
          "data": {
            "text/plain": [
              "tensor([1000, 1300, 1500])"
            ]
          },
          "metadata": {},
          "execution_count": 38
        }
      ]
    },
    {
      "cell_type": "code",
      "source": [],
      "metadata": {
        "id": "g5XxyC7CCugS"
      },
      "execution_count": 38,
      "outputs": []
    }
  ]
}