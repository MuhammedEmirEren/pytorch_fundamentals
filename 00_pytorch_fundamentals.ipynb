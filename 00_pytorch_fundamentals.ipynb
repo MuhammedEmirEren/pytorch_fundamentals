{
  "nbformat": 4,
  "nbformat_minor": 0,
  "metadata": {
    "colab": {
      "provenance": [],
      "authorship_tag": "ABX9TyP0ENovVqsM7+VM1AaIeDxm",
      "include_colab_link": true
    },
    "kernelspec": {
      "name": "python3",
      "display_name": "Python 3"
    },
    "language_info": {
      "name": "python"
    }
  },
  "cells": [
    {
      "cell_type": "markdown",
      "metadata": {
        "id": "view-in-github",
        "colab_type": "text"
      },
      "source": [
        "<a href=\"https://colab.research.google.com/github/MuhammedEmirEren/pytorch_fundamentals/blob/main/00_pytorch_fundamentals.ipynb\" target=\"_parent\"><img src=\"https://colab.research.google.com/assets/colab-badge.svg\" alt=\"Open In Colab\"/></a>"
      ]
    },
    {
      "cell_type": "markdown",
      "source": [
        "## 00. Pytorch Fundamentals"
      ],
      "metadata": {
        "id": "titmf4WjCNhn"
      }
    },
    {
      "cell_type": "code",
      "source": [
        "import torch\n",
        "import pandas as pd\n",
        "import matplotlib.pyplot as plt\n",
        "import numpy as np\n",
        "print(torch.__version__)"
      ],
      "metadata": {
        "colab": {
          "base_uri": "https://localhost:8080/"
        },
        "id": "hYY-BHiDDWqf",
        "outputId": "ee8c7a5f-d2d1-454b-b872-d695c378d5f3"
      },
      "execution_count": 1,
      "outputs": [
        {
          "output_type": "stream",
          "name": "stdout",
          "text": [
            "2.3.1+cu121\n"
          ]
        }
      ]
    },
    {
      "cell_type": "markdown",
      "source": [
        "# Tensors\n",
        "Creating Tensors\n",
        "\n",
        "pytorch tensors are created using torcch.tensor()\n",
        "-->>> https://pytorch.org/docs/stable/tensors.html#initializing-and-basic-operations\n",
        "\n",
        ".ndim is to get number of dimensions of tensor"
      ],
      "metadata": {
        "id": "XiilpnvpHO6c"
      }
    },
    {
      "cell_type": "code",
      "source": [
        "# scalar\n",
        "scalar = torch.tensor(7)\n",
        "scalar"
      ],
      "metadata": {
        "colab": {
          "base_uri": "https://localhost:8080/"
        },
        "id": "DgdPYGtjHOJ8",
        "outputId": "17b68b19-d0a3-46ef-9400-afc50d3a67f8"
      },
      "execution_count": 2,
      "outputs": [
        {
          "output_type": "execute_result",
          "data": {
            "text/plain": [
              "tensor(7)"
            ]
          },
          "metadata": {},
          "execution_count": 2
        }
      ]
    },
    {
      "cell_type": "code",
      "source": [
        "scalar.ndim"
      ],
      "metadata": {
        "colab": {
          "base_uri": "https://localhost:8080/"
        },
        "id": "0-E7BaTsJq3w",
        "outputId": "7709098c-bcba-49f5-e5f5-f86fefae07eb"
      },
      "execution_count": 3,
      "outputs": [
        {
          "output_type": "execute_result",
          "data": {
            "text/plain": [
              "0"
            ]
          },
          "metadata": {},
          "execution_count": 3
        }
      ]
    },
    {
      "cell_type": "code",
      "source": [
        "# Get scalar back as Python integer\n",
        "scalar.item()"
      ],
      "metadata": {
        "colab": {
          "base_uri": "https://localhost:8080/"
        },
        "id": "jAWv2n4XKV40",
        "outputId": "8c2a4d07-138f-4ab7-de9c-0434afb406c8"
      },
      "execution_count": 4,
      "outputs": [
        {
          "output_type": "execute_result",
          "data": {
            "text/plain": [
              "7"
            ]
          },
          "metadata": {},
          "execution_count": 4
        }
      ]
    },
    {
      "cell_type": "code",
      "source": [
        "# Vector\n",
        "vector = torch.tensor([7, 7])\n",
        "vector.ndim\n",
        "# Number of dimensions are acctually number of embedded square brackets\n",
        "# like two dimensional arrays in java\n"
      ],
      "metadata": {
        "colab": {
          "base_uri": "https://localhost:8080/"
        },
        "id": "pluHm_9OKdwT",
        "outputId": "e551e083-8aa7-4db9-871f-70165ef7aaac"
      },
      "execution_count": 5,
      "outputs": [
        {
          "output_type": "execute_result",
          "data": {
            "text/plain": [
              "1"
            ]
          },
          "metadata": {},
          "execution_count": 5
        }
      ]
    },
    {
      "cell_type": "code",
      "source": [
        "vector.shape\n",
        "# .shape is giving the dimensions in the coordinate system"
      ],
      "metadata": {
        "colab": {
          "base_uri": "https://localhost:8080/"
        },
        "id": "_4CGC2zyKqPS",
        "outputId": "52d0ff23-6c5d-48f0-bc76-9bc38f72d4a1"
      },
      "execution_count": 6,
      "outputs": [
        {
          "output_type": "execute_result",
          "data": {
            "text/plain": [
              "torch.Size([2])"
            ]
          },
          "metadata": {},
          "execution_count": 6
        }
      ]
    },
    {
      "cell_type": "code",
      "source": [
        "# Matrix\n",
        "MATRIX = torch.tensor([[3, 5],\n",
        "                       [8, 7]])\n",
        "MATRIX"
      ],
      "metadata": {
        "colab": {
          "base_uri": "https://localhost:8080/"
        },
        "id": "pjblWFxELYcb",
        "outputId": "5accce83-fde3-4866-e1a3-0dbfb4bfa7fd"
      },
      "execution_count": 7,
      "outputs": [
        {
          "output_type": "execute_result",
          "data": {
            "text/plain": [
              "tensor([[3, 5],\n",
              "        [8, 7]])"
            ]
          },
          "metadata": {},
          "execution_count": 7
        }
      ]
    },
    {
      "cell_type": "code",
      "source": [
        "MATRIX.ndim"
      ],
      "metadata": {
        "colab": {
          "base_uri": "https://localhost:8080/"
        },
        "id": "f8HaNJTvMX9L",
        "outputId": "00d79e6b-e6bb-461c-8190-113cf00084c2"
      },
      "execution_count": 8,
      "outputs": [
        {
          "output_type": "execute_result",
          "data": {
            "text/plain": [
              "2"
            ]
          },
          "metadata": {},
          "execution_count": 8
        }
      ]
    },
    {
      "cell_type": "code",
      "source": [
        "MATRIX.shape"
      ],
      "metadata": {
        "colab": {
          "base_uri": "https://localhost:8080/"
        },
        "id": "0xj-g9n8Mbd9",
        "outputId": "e95e36cb-1539-426f-b753-5704f415b9d9"
      },
      "execution_count": 9,
      "outputs": [
        {
          "output_type": "execute_result",
          "data": {
            "text/plain": [
              "torch.Size([2, 2])"
            ]
          },
          "metadata": {},
          "execution_count": 9
        }
      ]
    },
    {
      "cell_type": "code",
      "source": [
        "MATRIX[0]"
      ],
      "metadata": {
        "colab": {
          "base_uri": "https://localhost:8080/"
        },
        "id": "Px1bR-nTMd-O",
        "outputId": "aab950fb-e2b8-4611-8ba6-2bfd02baf864"
      },
      "execution_count": 10,
      "outputs": [
        {
          "output_type": "execute_result",
          "data": {
            "text/plain": [
              "tensor([3, 5])"
            ]
          },
          "metadata": {},
          "execution_count": 10
        }
      ]
    },
    {
      "cell_type": "code",
      "source": [
        "MATRIX[0][1]"
      ],
      "metadata": {
        "colab": {
          "base_uri": "https://localhost:8080/"
        },
        "id": "rdDq3xoMMpVL",
        "outputId": "9b1c0bce-3221-4bc0-d9ef-9d1e087b5a98"
      },
      "execution_count": 11,
      "outputs": [
        {
          "output_type": "execute_result",
          "data": {
            "text/plain": [
              "tensor(5)"
            ]
          },
          "metadata": {},
          "execution_count": 11
        }
      ]
    },
    {
      "cell_type": "code",
      "source": [
        "# TENSOR\n",
        "TENSOR = torch.tensor([[[1, 5, 8],\n",
        "                        [4, 9, 7],\n",
        "                        [5, 0, -1]]])\n",
        "TENSOR"
      ],
      "metadata": {
        "colab": {
          "base_uri": "https://localhost:8080/"
        },
        "id": "smCtnYO1MuRv",
        "outputId": "eb44a01f-0705-40fb-dccb-83e7852142a3"
      },
      "execution_count": 12,
      "outputs": [
        {
          "output_type": "execute_result",
          "data": {
            "text/plain": [
              "tensor([[[ 1,  5,  8],\n",
              "         [ 4,  9,  7],\n",
              "         [ 5,  0, -1]]])"
            ]
          },
          "metadata": {},
          "execution_count": 12
        }
      ]
    },
    {
      "cell_type": "code",
      "source": [
        "TENSOR.shape"
      ],
      "metadata": {
        "colab": {
          "base_uri": "https://localhost:8080/"
        },
        "id": "hHIW25f8NNcW",
        "outputId": "bf6f26a6-77bf-4009-bae5-35b958a022e4"
      },
      "execution_count": 13,
      "outputs": [
        {
          "output_type": "execute_result",
          "data": {
            "text/plain": [
              "torch.Size([1, 3, 3])"
            ]
          },
          "metadata": {},
          "execution_count": 13
        }
      ]
    },
    {
      "cell_type": "code",
      "source": [
        "TENSOR.ndim"
      ],
      "metadata": {
        "colab": {
          "base_uri": "https://localhost:8080/"
        },
        "id": "3iqVKxe6NQ42",
        "outputId": "0bf08591-5e10-4365-b2e1-f9a8d0375461"
      },
      "execution_count": 14,
      "outputs": [
        {
          "output_type": "execute_result",
          "data": {
            "text/plain": [
              "3"
            ]
          },
          "metadata": {},
          "execution_count": 14
        }
      ]
    },
    {
      "cell_type": "code",
      "source": [
        " TENSOR[0]"
      ],
      "metadata": {
        "colab": {
          "base_uri": "https://localhost:8080/"
        },
        "id": "4i9S18FzNcwz",
        "outputId": "466281d5-c7fc-4b3e-e180-af6df914ed2f"
      },
      "execution_count": 15,
      "outputs": [
        {
          "output_type": "execute_result",
          "data": {
            "text/plain": [
              "tensor([[ 1,  5,  8],\n",
              "        [ 4,  9,  7],\n",
              "        [ 5,  0, -1]])"
            ]
          },
          "metadata": {},
          "execution_count": 15
        }
      ]
    },
    {
      "cell_type": "code",
      "source": [
        "TENSOR[0, 0, 1]"
      ],
      "metadata": {
        "colab": {
          "base_uri": "https://localhost:8080/"
        },
        "id": "OcHRv6TjNn_z",
        "outputId": "b8530424-2cfd-42c6-b616-43620f96510d"
      },
      "execution_count": 16,
      "outputs": [
        {
          "output_type": "execute_result",
          "data": {
            "text/plain": [
              "tensor(5)"
            ]
          },
          "metadata": {},
          "execution_count": 16
        }
      ]
    },
    {
      "cell_type": "markdown",
      "source": [
        "### **Random Tensors**\n",
        "Random tensors are important because the way many neural networks learn is that they start with tensors full of random numbers and then adjust those random numbers to better represent the data."
      ],
      "metadata": {
        "id": "-HkpcOnr-24v"
      }
    },
    {
      "cell_type": "code",
      "source": [
        "# Create a random tensor of size (3, 4)\n",
        "random_tensor = torch.rand(3, 4)\n",
        "random_tensor"
      ],
      "metadata": {
        "colab": {
          "base_uri": "https://localhost:8080/"
        },
        "id": "VMbiFKMdAEaO",
        "outputId": "cb84d0f8-ff01-4bbe-beaf-ccffb1fffbd2"
      },
      "execution_count": 17,
      "outputs": [
        {
          "output_type": "execute_result",
          "data": {
            "text/plain": [
              "tensor([[0.7571, 0.4206, 0.1488, 0.7296],\n",
              "        [0.7036, 0.0739, 0.0232, 0.7375],\n",
              "        [0.7420, 0.7423, 0.8405, 0.7597]])"
            ]
          },
          "metadata": {},
          "execution_count": 17
        }
      ]
    },
    {
      "cell_type": "code",
      "source": [
        "random_tensor.ndim"
      ],
      "metadata": {
        "colab": {
          "base_uri": "https://localhost:8080/"
        },
        "id": "Q7Ag5no1AQLG",
        "outputId": "186b4dc2-489d-4025-e7d1-19a666af5c9c"
      },
      "execution_count": 18,
      "outputs": [
        {
          "output_type": "execute_result",
          "data": {
            "text/plain": [
              "2"
            ]
          },
          "metadata": {},
          "execution_count": 18
        }
      ]
    },
    {
      "cell_type": "code",
      "source": [
        "# Create a random tensor with similar shape to an image tensor\n",
        "random_image_size_tensor = torch.rand(size=(224, 224, 3)) # height, width, colour channels\n",
        "random_image_size_tensor.shape, random_image_size_tensor.ndim"
      ],
      "metadata": {
        "colab": {
          "base_uri": "https://localhost:8080/"
        },
        "id": "L3L9_t4oBHTO",
        "outputId": "a14f1ba9-ba4c-4e55-e2cc-8466809f23e0"
      },
      "execution_count": 19,
      "outputs": [
        {
          "output_type": "execute_result",
          "data": {
            "text/plain": [
              "(torch.Size([224, 224, 3]), 3)"
            ]
          },
          "metadata": {},
          "execution_count": 19
        }
      ]
    },
    {
      "cell_type": "code",
      "source": [
        "random_image_size_tensor"
      ],
      "metadata": {
        "colab": {
          "base_uri": "https://localhost:8080/"
        },
        "id": "k4H93HaGCjVL",
        "outputId": "f06232d1-193a-4b70-8bce-e5b50c36c68b"
      },
      "execution_count": 20,
      "outputs": [
        {
          "output_type": "execute_result",
          "data": {
            "text/plain": [
              "tensor([[[0.0312, 0.9668, 0.1565],\n",
              "         [0.4697, 0.6165, 0.6982],\n",
              "         [0.0633, 0.8754, 0.6356],\n",
              "         ...,\n",
              "         [0.7614, 0.7478, 0.4553],\n",
              "         [0.0308, 0.8512, 0.3409],\n",
              "         [0.7420, 0.9731, 0.0521]],\n",
              "\n",
              "        [[0.6784, 0.6801, 0.8449],\n",
              "         [0.4391, 0.0372, 0.9194],\n",
              "         [0.7626, 0.3994, 0.2184],\n",
              "         ...,\n",
              "         [0.6398, 0.5302, 0.4930],\n",
              "         [0.8979, 0.0565, 0.5612],\n",
              "         [0.1412, 0.1555, 0.4713]],\n",
              "\n",
              "        [[0.0565, 0.3398, 0.7405],\n",
              "         [0.8810, 0.5968, 0.8386],\n",
              "         [0.4103, 0.9120, 0.3075],\n",
              "         ...,\n",
              "         [0.1980, 0.6047, 0.2218],\n",
              "         [0.2044, 0.5622, 0.2467],\n",
              "         [0.4466, 0.0261, 0.9370]],\n",
              "\n",
              "        ...,\n",
              "\n",
              "        [[0.6396, 0.7049, 0.3152],\n",
              "         [0.8489, 0.5667, 0.7451],\n",
              "         [0.0549, 0.6395, 0.9110],\n",
              "         ...,\n",
              "         [0.5670, 0.1411, 0.0053],\n",
              "         [0.1502, 0.3238, 0.7652],\n",
              "         [0.2863, 0.7048, 0.1472]],\n",
              "\n",
              "        [[0.5519, 0.8950, 0.1005],\n",
              "         [0.9800, 0.4552, 0.2214],\n",
              "         [0.2065, 0.4886, 0.1195],\n",
              "         ...,\n",
              "         [0.9564, 0.0435, 0.6424],\n",
              "         [0.8256, 0.1856, 0.8572],\n",
              "         [0.7138, 0.4063, 0.2684]],\n",
              "\n",
              "        [[0.3091, 0.8620, 0.2160],\n",
              "         [0.5006, 0.7543, 0.1667],\n",
              "         [0.7951, 0.4992, 0.8746],\n",
              "         ...,\n",
              "         [0.2157, 0.1030, 0.2157],\n",
              "         [0.7532, 0.3428, 0.7200],\n",
              "         [0.2883, 0.8229, 0.2767]]])"
            ]
          },
          "metadata": {},
          "execution_count": 20
        }
      ]
    },
    {
      "cell_type": "markdown",
      "source": [
        "### Zeros and ones"
      ],
      "metadata": {
        "id": "5PYK6ODjD1cl"
      }
    },
    {
      "cell_type": "code",
      "source": [
        "# Create a tensor of all zeors\n",
        "zeros = torch.zeros(size=(3, 4))\n",
        "zeros"
      ],
      "metadata": {
        "colab": {
          "base_uri": "https://localhost:8080/"
        },
        "id": "spFCGfRgEEA6",
        "outputId": "f3cb93c3-f354-4816-d0ae-8aef976b4e75"
      },
      "execution_count": 21,
      "outputs": [
        {
          "output_type": "execute_result",
          "data": {
            "text/plain": [
              "tensor([[0., 0., 0., 0.],\n",
              "        [0., 0., 0., 0.],\n",
              "        [0., 0., 0., 0.]])"
            ]
          },
          "metadata": {},
          "execution_count": 21
        }
      ]
    },
    {
      "cell_type": "code",
      "source": [
        "zeros*random_tensor"
      ],
      "metadata": {
        "colab": {
          "base_uri": "https://localhost:8080/"
        },
        "id": "UfSQMeWjENyE",
        "outputId": "c3db777b-c9aa-4a5f-f22b-6e0807a0fc1d"
      },
      "execution_count": 22,
      "outputs": [
        {
          "output_type": "execute_result",
          "data": {
            "text/plain": [
              "tensor([[0., 0., 0., 0.],\n",
              "        [0., 0., 0., 0.],\n",
              "        [0., 0., 0., 0.]])"
            ]
          },
          "metadata": {},
          "execution_count": 22
        }
      ]
    },
    {
      "cell_type": "code",
      "source": [
        "# Create a trernsor of all ones\n",
        "ones = torch.ones(size=(3, 4))\n",
        "ones"
      ],
      "metadata": {
        "colab": {
          "base_uri": "https://localhost:8080/"
        },
        "id": "nORLgb_NEWWR",
        "outputId": "41dcca23-ebf1-466a-9ea4-3fa89e3a8f84"
      },
      "execution_count": 23,
      "outputs": [
        {
          "output_type": "execute_result",
          "data": {
            "text/plain": [
              "tensor([[1., 1., 1., 1.],\n",
              "        [1., 1., 1., 1.],\n",
              "        [1., 1., 1., 1.]])"
            ]
          },
          "metadata": {},
          "execution_count": 23
        }
      ]
    },
    {
      "cell_type": "code",
      "source": [
        "ones.dtype"
      ],
      "metadata": {
        "colab": {
          "base_uri": "https://localhost:8080/"
        },
        "id": "KHK1NhvbEmUq",
        "outputId": "d15c254d-a951-40d0-ad16-7bfe0cee7b06"
      },
      "execution_count": 24,
      "outputs": [
        {
          "output_type": "execute_result",
          "data": {
            "text/plain": [
              "torch.float32"
            ]
          },
          "metadata": {},
          "execution_count": 24
        }
      ]
    },
    {
      "cell_type": "code",
      "source": [
        "random_tensor.dtype"
      ],
      "metadata": {
        "colab": {
          "base_uri": "https://localhost:8080/"
        },
        "id": "UfrxCxhaEoyJ",
        "outputId": "42da3ce4-5540-4415-f9f4-e4aad3a2a2ca"
      },
      "execution_count": 25,
      "outputs": [
        {
          "output_type": "execute_result",
          "data": {
            "text/plain": [
              "torch.float32"
            ]
          },
          "metadata": {},
          "execution_count": 25
        }
      ]
    },
    {
      "cell_type": "markdown",
      "source": [
        "###Creating a range of tensors and tensors-like"
      ],
      "metadata": {
        "id": "LV-KFnotFG7G"
      }
    },
    {
      "cell_type": "code",
      "source": [
        "# Use torch.arange() instead of torch.range()\n",
        "zero_to_thousand = torch.arange(start=0, end=1000, step=68)\n",
        "zero_to_thousand"
      ],
      "metadata": {
        "colab": {
          "base_uri": "https://localhost:8080/"
        },
        "id": "fxla-oKgFGq1",
        "outputId": "1f5b3026-61a2-4ea0-abc3-fab05dd6cdfe"
      },
      "execution_count": 26,
      "outputs": [
        {
          "output_type": "execute_result",
          "data": {
            "text/plain": [
              "tensor([  0,  68, 136, 204, 272, 340, 408, 476, 544, 612, 680, 748, 816, 884,\n",
              "        952])"
            ]
          },
          "metadata": {},
          "execution_count": 26
        }
      ]
    },
    {
      "cell_type": "code",
      "source": [
        "# Creating tensors like\n",
        "zeroes_like = torch.zeros_like(input=zero_to_thousand)\n",
        "zeroes_like"
      ],
      "metadata": {
        "colab": {
          "base_uri": "https://localhost:8080/"
        },
        "id": "0UlbzoAhFUVw",
        "outputId": "d4e5838e-07c6-46bf-8b46-9885e95b983c"
      },
      "execution_count": 27,
      "outputs": [
        {
          "output_type": "execute_result",
          "data": {
            "text/plain": [
              "tensor([0, 0, 0, 0, 0, 0, 0, 0, 0, 0, 0, 0, 0, 0, 0])"
            ]
          },
          "metadata": {},
          "execution_count": 27
        }
      ]
    },
    {
      "cell_type": "markdown",
      "source": [
        "### Tensor Datatypes\n",
        "3-possible tensor errors\n",
        "\n",
        "1. Tensors not right datatype\n",
        "2. Tensors not right shape\n",
        "3. Tensors not on right device"
      ],
      "metadata": {
        "id": "S5QKpL9eHzz7"
      }
    },
    {
      "cell_type": "code",
      "source": [
        "# Float 32 tensor\n",
        "float_32_tensor = torch.tensor([3.0, 6.0, 8.0],\n",
        "                               dtype=None)\n",
        "print(float_32_tensor.dtype) # Default tensor datatype is float 32\n",
        "\n",
        "float_16_tensor = torch.tensor([5.0, 6.0, 4.3],\n",
        "                               dtype=torch.float16, # What datatype is the tensor (e.g. float32 -> single precision more digits, float16 -> half precision faster operations, complex32, )\n",
        "                               device=None, # What device is your tensor on, You cannot do an operation between two tensors that are on the different devices\n",
        "                               requires_grad=False) # Pytorch to track the gradient\n",
        "float_16_tensor.dtype"
      ],
      "metadata": {
        "colab": {
          "base_uri": "https://localhost:8080/"
        },
        "id": "BnUCVywAH5e2",
        "outputId": "5100b792-628b-4e6c-cbac-d29aab5d8021"
      },
      "execution_count": 28,
      "outputs": [
        {
          "output_type": "stream",
          "name": "stdout",
          "text": [
            "torch.float32\n"
          ]
        },
        {
          "output_type": "execute_result",
          "data": {
            "text/plain": [
              "torch.float16"
            ]
          },
          "metadata": {},
          "execution_count": 28
        }
      ]
    },
    {
      "cell_type": "code",
      "source": [
        "float_16_tensor = float_32_tensor.type(torch.float16)\n",
        "float_16_tensor"
      ],
      "metadata": {
        "colab": {
          "base_uri": "https://localhost:8080/"
        },
        "id": "OVOod0l1IKQZ",
        "outputId": "88afb3d8-d2ad-42a3-9245-4800bd36ba9b"
      },
      "execution_count": 29,
      "outputs": [
        {
          "output_type": "execute_result",
          "data": {
            "text/plain": [
              "tensor([3., 6., 8.], dtype=torch.float16)"
            ]
          },
          "metadata": {},
          "execution_count": 29
        }
      ]
    },
    {
      "cell_type": "code",
      "source": [
        "float_16_tensor * float_32_tensor"
      ],
      "metadata": {
        "colab": {
          "base_uri": "https://localhost:8080/"
        },
        "id": "JHZOMg5jK5_v",
        "outputId": "427e5e5b-de02-4f86-ab0d-8b163050d225"
      },
      "execution_count": 30,
      "outputs": [
        {
          "output_type": "execute_result",
          "data": {
            "text/plain": [
              "tensor([ 9., 36., 64.])"
            ]
          },
          "metadata": {},
          "execution_count": 30
        }
      ]
    },
    {
      "cell_type": "code",
      "source": [
        "int_32_tensor = torch.tensor([3, 7, 8],\n",
        "                             dtype=torch.int32)\n",
        "int_32_tensor"
      ],
      "metadata": {
        "id": "S362rKRSLVv4",
        "colab": {
          "base_uri": "https://localhost:8080/"
        },
        "outputId": "227925f8-8d68-40da-8471-1775f56df2f5"
      },
      "execution_count": 31,
      "outputs": [
        {
          "output_type": "execute_result",
          "data": {
            "text/plain": [
              "tensor([3, 7, 8], dtype=torch.int32)"
            ]
          },
          "metadata": {},
          "execution_count": 31
        }
      ]
    },
    {
      "cell_type": "code",
      "source": [
        "float_32_tensor * int_32_tensor"
      ],
      "metadata": {
        "colab": {
          "base_uri": "https://localhost:8080/"
        },
        "id": "-mx6VCkW7ms8",
        "outputId": "9a4062cb-3115-4cbe-e616-28cc90ce86ce"
      },
      "execution_count": 32,
      "outputs": [
        {
          "output_type": "execute_result",
          "data": {
            "text/plain": [
              "tensor([ 9., 42., 64.])"
            ]
          },
          "metadata": {},
          "execution_count": 32
        }
      ]
    },
    {
      "cell_type": "markdown",
      "source": [
        "### Getting Information From Tensors (tensor attributes)\n",
        "\n",
        "\n"
      ],
      "metadata": {
        "id": "22odLTrt8Bag"
      }
    },
    {
      "cell_type": "markdown",
      "source": [
        "To get datatype: tensor.dtype\n",
        "\n",
        "To get shpe from tensor: tensor.hape\n",
        "\n",
        "To get device from tensor: tensor.device"
      ],
      "metadata": {
        "id": "nWZs26P682uz"
      }
    },
    {
      "cell_type": "code",
      "source": [
        "# Create a tensor\n",
        "some_tensor = torch.rand(3, 4)\n",
        "some_tensor"
      ],
      "metadata": {
        "colab": {
          "base_uri": "https://localhost:8080/"
        },
        "id": "k_6Jlhd79Qoy",
        "outputId": "7e664731-def2-4949-e895-36a794d31dfe"
      },
      "execution_count": 33,
      "outputs": [
        {
          "output_type": "execute_result",
          "data": {
            "text/plain": [
              "tensor([[0.0245, 0.2844, 0.8621, 0.6671],\n",
              "        [0.8455, 0.1140, 0.3178, 0.0993],\n",
              "        [0.1393, 0.3930, 0.1957, 0.6589]])"
            ]
          },
          "metadata": {},
          "execution_count": 33
        }
      ]
    },
    {
      "cell_type": "code",
      "source": [
        "print(some_tensor)\n",
        "print(f\"Datatype of tensor: {some_tensor.dtype}\")\n",
        "print(f\"Shape of tensor: {some_tensor.shape}\")\n",
        "print(f\"Device of tensor: {some_tensor.device}\")"
      ],
      "metadata": {
        "colab": {
          "base_uri": "https://localhost:8080/"
        },
        "id": "zTWAe2rz9cRL",
        "outputId": "cf1f7553-a93f-4941-996c-4dd75713c95b"
      },
      "execution_count": 34,
      "outputs": [
        {
          "output_type": "stream",
          "name": "stdout",
          "text": [
            "tensor([[0.0245, 0.2844, 0.8621, 0.6671],\n",
            "        [0.8455, 0.1140, 0.3178, 0.0993],\n",
            "        [0.1393, 0.3930, 0.1957, 0.6589]])\n",
            "Datatype of tensor: torch.float32\n",
            "Shape of tensor: torch.Size([3, 4])\n",
            "Device of tensor: cpu\n"
          ]
        }
      ]
    },
    {
      "cell_type": "markdown",
      "source": [
        "  ### Tensor Operations\n",
        "\n",
        "  Tensor operations include:\n",
        "  - Addition\n",
        "  - Subtractinn\n",
        "  - Multiplication (element-wise)\n",
        "  - Division\n",
        "  - Matrix multiplication"
      ],
      "metadata": {
        "id": "XFZno0Xe97EL"
      }
    },
    {
      "cell_type": "code",
      "source": [
        "# Create a tensor\n",
        "tensor = torch.tensor([1, 4, 6])\n",
        "# Addition\n",
        "tensor = tensor + 10\n",
        "tensor"
      ],
      "metadata": {
        "colab": {
          "base_uri": "https://localhost:8080/"
        },
        "id": "-8uQ25PbA3t5",
        "outputId": "9fc37d4a-ff56-4adb-f126-aa101da0a97c"
      },
      "execution_count": 35,
      "outputs": [
        {
          "output_type": "execute_result",
          "data": {
            "text/plain": [
              "tensor([11, 14, 16])"
            ]
          },
          "metadata": {},
          "execution_count": 35
        }
      ]
    },
    {
      "cell_type": "code",
      "source": [
        "# Multiplication\n",
        "tensor = tensor * 10\n",
        "tensor"
      ],
      "metadata": {
        "colab": {
          "base_uri": "https://localhost:8080/"
        },
        "id": "2E6rLNYLCBUf",
        "outputId": "f4587aa4-288a-45c6-8e8f-5ab61b7ba389"
      },
      "execution_count": 36,
      "outputs": [
        {
          "output_type": "execute_result",
          "data": {
            "text/plain": [
              "tensor([110, 140, 160])"
            ]
          },
          "metadata": {},
          "execution_count": 36
        }
      ]
    },
    {
      "cell_type": "code",
      "source": [
        "# Subtraction\n",
        "tensor = tensor - 10\n",
        "tensor"
      ],
      "metadata": {
        "colab": {
          "base_uri": "https://localhost:8080/"
        },
        "id": "wHnwm3PrCL_2",
        "outputId": "ad808c7b-d58b-40d6-b6ef-50b3c0e532ff"
      },
      "execution_count": 37,
      "outputs": [
        {
          "output_type": "execute_result",
          "data": {
            "text/plain": [
              "tensor([100, 130, 150])"
            ]
          },
          "metadata": {},
          "execution_count": 37
        }
      ]
    },
    {
      "cell_type": "code",
      "source": [
        "# Try out pytorch in built functions\n",
        "torch.mul(tensor, 10)\n",
        "torch.add(tensor, 10)"
      ],
      "metadata": {
        "colab": {
          "base_uri": "https://localhost:8080/"
        },
        "id": "gL17Yp6ECOa2",
        "outputId": "2451c8c1-dd6f-4604-9d5d-31c866be796c"
      },
      "execution_count": 38,
      "outputs": [
        {
          "output_type": "execute_result",
          "data": {
            "text/plain": [
              "tensor([110, 140, 160])"
            ]
          },
          "metadata": {},
          "execution_count": 38
        }
      ]
    },
    {
      "cell_type": "markdown",
      "source": [
        "### Matrix Multiplication\n",
        "\n",
        "Two main ways of performing multiplication in neural network and deep learnning:\n",
        "\n",
        "1) Element-wise multiplication\n",
        "\n",
        "2) Matrix multiplication (dot product)"
      ],
      "metadata": {
        "id": "6-kb7CnCDjne"
      }
    },
    {
      "cell_type": "code",
      "source": [
        " # Element wise multiplication\n",
        " print(tensor, \"*\", tensor)\n",
        " print(f\"Equals: {tensor * tensor}\")"
      ],
      "metadata": {
        "colab": {
          "base_uri": "https://localhost:8080/"
        },
        "id": "7c5eVtOmD8lG",
        "outputId": "dc95b3a3-195a-49cc-a56e-70afa85e1737"
      },
      "execution_count": 39,
      "outputs": [
        {
          "output_type": "stream",
          "name": "stdout",
          "text": [
            "tensor([100, 130, 150]) * tensor([100, 130, 150])\n",
            "Equals: tensor([10000, 16900, 22500])\n"
          ]
        }
      ]
    },
    {
      "cell_type": "code",
      "source": [
        "# Matrix Multiplication\n",
        "torch.matmul( tensor, tensor)"
      ],
      "metadata": {
        "colab": {
          "base_uri": "https://localhost:8080/"
        },
        "id": "ykmMEdLIFijm",
        "outputId": "f2b2b96f-94f0-47c4-ba91-7fc737d7d578"
      },
      "execution_count": 40,
      "outputs": [
        {
          "output_type": "execute_result",
          "data": {
            "text/plain": [
              "tensor(49400)"
            ]
          },
          "metadata": {},
          "execution_count": 40
        }
      ]
    },
    {
      "cell_type": "markdown",
      "source": [
        "It is a lot faster to do it by using pytorch matmul method than doing it by hand"
      ],
      "metadata": {
        "id": "8f0935WpF1SA"
      }
    },
    {
      "cell_type": "markdown",
      "source": [
        "### One of the most common errors in deep learning: Shape errors\n",
        "##There are two main rules that performing matrix multiplication needs to satisfy:\n",
        "1. The **inner dimensions** must match: (@ means matrix multiplication)\n",
        "* (3, **2**) @ (**3**, 2) wont work\n",
        "* (2, **3**) @ (**3**, 2) will work\n",
        "* (3, **2**) @ (**2**, 3) will work\n",
        "2. The resulting matrix has the shape of **outer dimensions**\n",
        "* (2, 3) @ (3, 2)  ---> (2, 2)\n",
        "* (3, 2) @ (2, 3)  ---> (2, 2)"
      ],
      "metadata": {
        "id": "GeGrfJF_P3mB"
      }
    },
    {
      "cell_type": "markdown",
      "source": [
        "# Shapes for maatrix multiplication\n",
        "\n",
        "torch.mm(tensor_A, tensor_B) # torch.mm is the same as torch.matmmul\n",
        "# It wont work"
      ],
      "metadata": {
        "id": "_XMo9xJIRe_-"
      }
    },
    {
      "cell_type": "code",
      "source": [
        "tensor_A = torch.tensor([[1, 2],\n",
        "                         [3, 4],\n",
        "                         [5, 6]])\n",
        "\n",
        "\n",
        "tensor_B = torch.tensor([[7, 10],\n",
        "                         [8, 11],\n",
        "                         [9, 12]])"
      ],
      "metadata": {
        "id": "OHcusMFrW7Ay"
      },
      "execution_count": 45,
      "outputs": []
    },
    {
      "cell_type": "code",
      "source": [
        "tensor_A.shape, tensor_B.shape"
      ],
      "metadata": {
        "colab": {
          "base_uri": "https://localhost:8080/"
        },
        "id": "2MHJ_AuVTCmt",
        "outputId": "63cd73f2-9df9-4b0f-892c-145afa358319"
      },
      "execution_count": 46,
      "outputs": [
        {
          "output_type": "execute_result",
          "data": {
            "text/plain": [
              "(torch.Size([3, 2]), torch.Size([3, 2]))"
            ]
          },
          "metadata": {},
          "execution_count": 46
        }
      ]
    },
    {
      "cell_type": "markdown",
      "source": [
        " To fix our tensor shape issues, we can manipulatae the shape of one of our tensors using transpose.\n",
        "\n",
        " A **transpose** switches the axes or the dimensions of a given tensor."
      ],
      "metadata": {
        "id": "rjvGOg2uTAxc"
      }
    },
    {
      "cell_type": "code",
      "source": [
        "tensor_B.T, tensor_B.T.shape"
      ],
      "metadata": {
        "colab": {
          "base_uri": "https://localhost:8080/"
        },
        "id": "wxzTKKOmTVq3",
        "outputId": "74b571d0-ec68-4967-e1e1-c5e91d90d253"
      },
      "execution_count": 47,
      "outputs": [
        {
          "output_type": "execute_result",
          "data": {
            "text/plain": [
              "(tensor([[ 7,  8,  9],\n",
              "         [10, 11, 12]]),\n",
              " torch.Size([2, 3]))"
            ]
          },
          "metadata": {},
          "execution_count": 47
        }
      ]
    },
    {
      "cell_type": "code",
      "source": [
        "tensor_B, tensor_B.shape"
      ],
      "metadata": {
        "colab": {
          "base_uri": "https://localhost:8080/"
        },
        "id": "TBGBFP1mTYdV",
        "outputId": "947c0fb9-dff1-48ff-c7b3-1234dfbf29cf"
      },
      "execution_count": 48,
      "outputs": [
        {
          "output_type": "execute_result",
          "data": {
            "text/plain": [
              "(tensor([[ 7, 10],\n",
              "         [ 8, 11],\n",
              "         [ 9, 12]]),\n",
              " torch.Size([3, 2]))"
            ]
          },
          "metadata": {},
          "execution_count": 48
        }
      ]
    },
    {
      "cell_type": "code",
      "source": [
        "# The matrix multiplicationn operation works when tensor_B is transposed\n",
        "\n",
        "torch.mm(tensor_A, tensor_B.T), torch.mm(tensor_A, tensor_B.T).shape"
      ],
      "metadata": {
        "colab": {
          "base_uri": "https://localhost:8080/"
        },
        "id": "GxqSWs2aTcNv",
        "outputId": "474d5fab-7e18-4d18-9df7-84bcdfb7b06b"
      },
      "execution_count": 49,
      "outputs": [
        {
          "output_type": "execute_result",
          "data": {
            "text/plain": [
              "(tensor([[ 27,  30,  33],\n",
              "         [ 61,  68,  75],\n",
              "         [ 95, 106, 117]]),\n",
              " torch.Size([3, 3]))"
            ]
          },
          "metadata": {},
          "execution_count": 49
        }
      ]
    },
    {
      "cell_type": "markdown",
      "source": [
        "## Finding the min, max, mean, sum, etc (tensor aggregation)"
      ],
      "metadata": {
        "id": "G22RJMeqBZMX"
      }
    },
    {
      "cell_type": "markdown",
      "source": [],
      "metadata": {
        "id": "A4XZ2F7yDIUM"
      }
    },
    {
      "cell_type": "code",
      "source": [
        "x = torch.arange( 0, 100, 10).type(dtype = torch.float16) # Default dtype is long then it gives error in the mean method\n",
        "x, x.dtype"
      ],
      "metadata": {
        "id": "BrCRNqS7T6o1",
        "colab": {
          "base_uri": "https://localhost:8080/"
        },
        "outputId": "6416765d-e6da-4905-ebf8-dca11bc263e1"
      },
      "execution_count": 50,
      "outputs": [
        {
          "output_type": "execute_result",
          "data": {
            "text/plain": [
              "(tensor([ 0., 10., 20., 30., 40., 50., 60., 70., 80., 90.], dtype=torch.float16),\n",
              " torch.float16)"
            ]
          },
          "metadata": {},
          "execution_count": 50
        }
      ]
    },
    {
      "cell_type": "code",
      "source": [
        "# Find the min\n",
        "torch.min(x), x.min()"
      ],
      "metadata": {
        "colab": {
          "base_uri": "https://localhost:8080/"
        },
        "id": "eaK6Nt68ByZB",
        "outputId": "e086f8c6-c803-4d0f-b1c0-ded8bc0cf906"
      },
      "execution_count": 51,
      "outputs": [
        {
          "output_type": "execute_result",
          "data": {
            "text/plain": [
              "(tensor(0., dtype=torch.float16), tensor(0., dtype=torch.float16))"
            ]
          },
          "metadata": {},
          "execution_count": 51
        }
      ]
    },
    {
      "cell_type": "code",
      "source": [
        "# Find the max\n",
        "torch.max(x), x.max()"
      ],
      "metadata": {
        "colab": {
          "base_uri": "https://localhost:8080/"
        },
        "id": "1wTiqTnRCW0g",
        "outputId": "ea44cc6e-e805-4654-84af-38b8a4779391"
      },
      "execution_count": 52,
      "outputs": [
        {
          "output_type": "execute_result",
          "data": {
            "text/plain": [
              "(tensor(90., dtype=torch.float16), tensor(90., dtype=torch.float16))"
            ]
          },
          "metadata": {},
          "execution_count": 52
        }
      ]
    },
    {
      "cell_type": "code",
      "source": [
        "# Find the mean (requires a tensor of float datatype to work)\n",
        "torch.mean(x)"
      ],
      "metadata": {
        "colab": {
          "base_uri": "https://localhost:8080/"
        },
        "id": "2OdH8RraCcbH",
        "outputId": "793cd535-d52c-455d-a61c-37687a66517a"
      },
      "execution_count": 53,
      "outputs": [
        {
          "output_type": "execute_result",
          "data": {
            "text/plain": [
              "tensor(45., dtype=torch.float16)"
            ]
          },
          "metadata": {},
          "execution_count": 53
        }
      ]
    },
    {
      "cell_type": "code",
      "source": [
        "# Find the sum\n",
        "\n",
        "torch.sum(x), x.sum()"
      ],
      "metadata": {
        "colab": {
          "base_uri": "https://localhost:8080/"
        },
        "id": "MpvuraMuCn14",
        "outputId": "5200afe7-4d08-416a-b897-245ce86bfd50"
      },
      "execution_count": 54,
      "outputs": [
        {
          "output_type": "execute_result",
          "data": {
            "text/plain": [
              "(tensor(450., dtype=torch.float16), tensor(450., dtype=torch.float16))"
            ]
          },
          "metadata": {},
          "execution_count": 54
        }
      ]
    },
    {
      "cell_type": "markdown",
      "source": [
        "## Finding the positional min and max"
      ],
      "metadata": {
        "id": "yHQRQwY1D4E8"
      }
    },
    {
      "cell_type": "code",
      "source": [
        "x"
      ],
      "metadata": {
        "colab": {
          "base_uri": "https://localhost:8080/"
        },
        "id": "mXqN5d1kEXP4",
        "outputId": "40c7359a-f82e-4b0d-a138-3e173acec1f0"
      },
      "execution_count": 55,
      "outputs": [
        {
          "output_type": "execute_result",
          "data": {
            "text/plain": [
              "tensor([ 0., 10., 20., 30., 40., 50., 60., 70., 80., 90.], dtype=torch.float16)"
            ]
          },
          "metadata": {},
          "execution_count": 55
        }
      ]
    },
    {
      "cell_type": "code",
      "source": [
        "# Find the position in tensorr that has the minimum value with argmin() -> returns index of minimum argument\n",
        "x.argmin(), torch.argmin(x)"
      ],
      "metadata": {
        "colab": {
          "base_uri": "https://localhost:8080/"
        },
        "id": "3Bi2obyWETDW",
        "outputId": "f68cc131-7109-4adc-f89a-5d2ba5da63dc"
      },
      "execution_count": 56,
      "outputs": [
        {
          "output_type": "execute_result",
          "data": {
            "text/plain": [
              "(tensor(0), tensor(0))"
            ]
          },
          "metadata": {},
          "execution_count": 56
        }
      ]
    },
    {
      "cell_type": "code",
      "source": [
        "# Find position of the max\n",
        "x.argmax()"
      ],
      "metadata": {
        "colab": {
          "base_uri": "https://localhost:8080/"
        },
        "id": "hvoVy5s0EYRA",
        "outputId": "2cb244c3-f9db-4eb2-cd82-c5e5144c80f3"
      },
      "execution_count": 57,
      "outputs": [
        {
          "output_type": "execute_result",
          "data": {
            "text/plain": [
              "tensor(9)"
            ]
          },
          "metadata": {},
          "execution_count": 57
        }
      ]
    },
    {
      "cell_type": "markdown",
      "source": [
        "## Reshaping, stacking, squeezing and unsqueeezing tensors\n",
        "\n",
        "* Reshaping - reshapes an input tensor to a defined shape\n",
        "\n",
        "* View - Return a view of an input tensor of certain shape but keep the same memory as the original tensor\n",
        "\n",
        "* Stacking - combine multiple tensors on top of each other (vstack) or side by side (hstack)\n",
        "\n",
        "* Squeeeze - removes all '1' dimensions from a tensor\n",
        "\n",
        "* Unsqueeze - add a '1' dimension to a target tensor\n",
        "\n",
        "* Permute - Return a vieew of the input with dimensions permuted (swapped) in a certain way."
      ],
      "metadata": {
        "id": "Voh5B9CVEaU1"
      }
    },
    {
      "cell_type": "code",
      "source": [
        "#Let's create a tensor\n",
        "import torch\n",
        "x = torch.arange(1., 10.)\n",
        "x, x.shape"
      ],
      "metadata": {
        "colab": {
          "base_uri": "https://localhost:8080/"
        },
        "id": "PuanfERoL_YI",
        "outputId": "288a7e4f-b0ab-4438-b840-654e1bc15c7f"
      },
      "execution_count": 58,
      "outputs": [
        {
          "output_type": "execute_result",
          "data": {
            "text/plain": [
              "(tensor([1., 2., 3., 4., 5., 6., 7., 8., 9.]), torch.Size([9]))"
            ]
          },
          "metadata": {},
          "execution_count": 58
        }
      ]
    },
    {
      "cell_type": "code",
      "source": [
        "# Add an extra dimension\n",
        "x_reshaped = x.reshape(1, 9)\n",
        "x_reshaped, x_reshaped.shape"
      ],
      "metadata": {
        "colab": {
          "base_uri": "https://localhost:8080/"
        },
        "id": "d9OuvXKBMTZ1",
        "outputId": "f3f51a0a-9b3a-4087-ecd8-3272812cda7a"
      },
      "execution_count": 59,
      "outputs": [
        {
          "output_type": "execute_result",
          "data": {
            "text/plain": [
              "(tensor([[1., 2., 3., 4., 5., 6., 7., 8., 9.]]), torch.Size([1, 9]))"
            ]
          },
          "metadata": {},
          "execution_count": 59
        }
      ]
    },
    {
      "cell_type": "code",
      "source": [
        "# Change the view\n",
        "z = x.view(1, 9) # Like the same shape with reshape\n",
        "z, z.shape"
      ],
      "metadata": {
        "colab": {
          "base_uri": "https://localhost:8080/"
        },
        "id": "t0E2STxhMsU2",
        "outputId": "5fe85c89-e784-4836-fb02-6e8cb8945436"
      },
      "execution_count": 60,
      "outputs": [
        {
          "output_type": "execute_result",
          "data": {
            "text/plain": [
              "(tensor([[1., 2., 3., 4., 5., 6., 7., 8., 9.]]), torch.Size([1, 9]))"
            ]
          },
          "metadata": {},
          "execution_count": 60
        }
      ]
    },
    {
      "cell_type": "code",
      "source": [
        "# Changing z changes x (because a view of a tensor shares the same memory as the original tensor)\n",
        "z[:, 0] = 5\n",
        "z, x"
      ],
      "metadata": {
        "colab": {
          "base_uri": "https://localhost:8080/"
        },
        "id": "ip6F_lZaOucY",
        "outputId": "5697d39e-22cd-4de4-947e-60864bdda30b"
      },
      "execution_count": 61,
      "outputs": [
        {
          "output_type": "execute_result",
          "data": {
            "text/plain": [
              "(tensor([[5., 2., 3., 4., 5., 6., 7., 8., 9.]]),\n",
              " tensor([5., 2., 3., 4., 5., 6., 7., 8., 9.]))"
            ]
          },
          "metadata": {},
          "execution_count": 61
        }
      ]
    },
    {
      "cell_type": "code",
      "source": [
        "# Stack tensors on top of each other\n",
        "x_stacked = torch.stack([x, x, x, x], dim=1) # vstack and hstack is changing the dim here\n",
        "x_stacked"
      ],
      "metadata": {
        "colab": {
          "base_uri": "https://localhost:8080/"
        },
        "id": "YM1XB4CyPfwS",
        "outputId": "85a603f1-a27d-4fef-98d7-43260cbaaac3"
      },
      "execution_count": 62,
      "outputs": [
        {
          "output_type": "execute_result",
          "data": {
            "text/plain": [
              "tensor([[5., 5., 5., 5.],\n",
              "        [2., 2., 2., 2.],\n",
              "        [3., 3., 3., 3.],\n",
              "        [4., 4., 4., 4.],\n",
              "        [5., 5., 5., 5.],\n",
              "        [6., 6., 6., 6.],\n",
              "        [7., 7., 7., 7.],\n",
              "        [8., 8., 8., 8.],\n",
              "        [9., 9., 9., 9.]])"
            ]
          },
          "metadata": {},
          "execution_count": 62
        }
      ]
    },
    {
      "cell_type": "code",
      "source": [
        "# torch.squeeze() - removes all sin gle dimensions from a target tensor\n",
        "print(f\"Previous tensor: {x_reshaped}\")\n",
        "print(f\"Previous shape: {x_reshaped.shape}\")"
      ],
      "metadata": {
        "id": "lFkQaoJTQoUW",
        "colab": {
          "base_uri": "https://localhost:8080/"
        },
        "outputId": "2f85856c-5a93-4c2a-ded4-f52182363242"
      },
      "execution_count": 68,
      "outputs": [
        {
          "output_type": "stream",
          "name": "stdout",
          "text": [
            "Previous tensor: tensor([[5., 2., 3., 4., 5., 6., 7., 8., 9.]])\n",
            "Previous shape: torch.Size([1, 9])\n"
          ]
        }
      ]
    },
    {
      "cell_type": "code",
      "source": [
        "# Remove extra dimensions from x_reshaped\n",
        "x_squeezed = x_reshaped.squeeze()\n",
        "print(f\"\\nNew Tensor: {x_squeezed}\")\n",
        "print(f\"New shape: {x_squeezed.shape}\")"
      ],
      "metadata": {
        "colab": {
          "base_uri": "https://localhost:8080/"
        },
        "id": "BqVQ94ZwX3K0",
        "outputId": "8d0eeb98-1a40-4bc5-fae5-01aef6c6426a"
      },
      "execution_count": 70,
      "outputs": [
        {
          "output_type": "stream",
          "name": "stdout",
          "text": [
            "\n",
            "New Tensor: tensor([5., 2., 3., 4., 5., 6., 7., 8., 9.])\n",
            "New shape: torch.Size([9])\n"
          ]
        }
      ]
    },
    {
      "cell_type": "code",
      "source": [
        "# torch.unsqueeze() - adds a single dimension to a target tensor at a specific dim (dimension)\n",
        "print(f\"Previoous targeet: {x_squeezed}\")\n",
        "print(f\"Previous shape: {x_squeezed.shape}\")\n",
        "\n",
        "# Add an extra dimension with unsqueeze\n",
        "x_unsqueezed = x_squeezed.unsqueeze(dim=0)\n",
        "print(f\"\\nNew shape: {x_unsqueezed.shape}\")\n",
        "print(f\"New tensor: {x_unsqueezed}\")"
      ],
      "metadata": {
        "colab": {
          "base_uri": "https://localhost:8080/"
        },
        "id": "250tMXLMX6LC",
        "outputId": "d68563c8-1964-465b-bb82-681448b50c3d"
      },
      "execution_count": 74,
      "outputs": [
        {
          "output_type": "stream",
          "name": "stdout",
          "text": [
            "Previoous targeet: tensor([5., 2., 3., 4., 5., 6., 7., 8., 9.])\n",
            "Previous shape: torch.Size([9])\n",
            "\n",
            "New shape: torch.Size([1, 9])\n",
            "New tensor: tensor([[5., 2., 3., 4., 5., 6., 7., 8., 9.]])\n"
          ]
        }
      ]
    },
    {
      "cell_type": "code",
      "source": [
        "# torch.permute - rearranges the dimensions of a target tensor in a specified order\n",
        "x_original = torch.rand(size=(224, 224, 3)) # [height, width, colour_channels]\n",
        "\n",
        "# Permute the original tensor to rearrange the axis (or dim) order\n",
        "x_permuted = x_original.permute(2, 0, 1) # shifts axis 0 -> 1, 1 -> 2, 2 -> 0\n",
        "\n",
        "print(f\"Previous shape: {x_original.shape}\")\n",
        "print(f\"New shape: {x_permuted.shape}\") #[colour_channels, height, width]"
      ],
      "metadata": {
        "colab": {
          "base_uri": "https://localhost:8080/"
        },
        "id": "-3ZLXOJCdk6U",
        "outputId": "0967b1bf-213a-425e-f0c6-d140fdc9c529"
      },
      "execution_count": 76,
      "outputs": [
        {
          "output_type": "stream",
          "name": "stdout",
          "text": [
            "Previous shape: torch.Size([224, 224, 3])\n",
            "New shape: torch.Size([3, 224, 224])\n"
          ]
        }
      ]
    },
    {
      "cell_type": "code",
      "source": [],
      "metadata": {
        "id": "r5bnK-VMf_Pt"
      },
      "execution_count": null,
      "outputs": []
    }
  ]
}